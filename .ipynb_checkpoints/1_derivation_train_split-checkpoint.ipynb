{
 "cells": [
  {
   "cell_type": "code",
   "execution_count": null,
   "id": "f404f109",
   "metadata": {},
   "outputs": [],
   "source": [
    "import numpy as np\n",
    "import pandas as pd\n",
    "import matplotlib.pyplot as plt\n",
    "import seaborn as sns\n",
    "import math\n",
    "import warnings\n",
    "import sklearn\n",
    "import random\n",
    "\n",
    "warnings.filterwarnings(\"ignore\")"
   ]
  },
  {
   "cell_type": "markdown",
   "id": "99578427",
   "metadata": {},
   "source": [
    "### Do derivation / test split\n",
    "\n",
    "Remove datapoints measured too close (< 30 days) before diagnosis"
   ]
  },
  {
   "cell_type": "code",
   "execution_count": null,
   "id": "375becf6",
   "metadata": {},
   "outputs": [],
   "source": [
    "def deriv_test_split(patient_list, shuffle=False, random_state=42):\n",
    "    # Divide patients to train / validation / test groups\n",
    "         \n",
    "    random.seed(random_state)\n",
    "    \n",
    "    if shuffle == True:\n",
    "        random.shuffle(patient_list)\n",
    "    \n",
    "    # Calculate the number of items in each sublist\n",
    "    total_items = len(patient_list)\n",
    "    deriv_size = int(total_items * 0.85)\n",
    "    test_size = total_items - deriv_size  # To ensure all items are included\n",
    "\n",
    "    # Divide the list into sublists\n",
    "    deriv_list = patient_list[:deriv_size]\n",
    "    test_list = patient_list[deriv_size:]\n",
    "\n",
    "    return deriv_list, test_list"
   ]
  },
  {
   "cell_type": "code",
   "execution_count": null,
   "id": "127376c2",
   "metadata": {},
   "outputs": [],
   "source": [
    "my_path = '~/mounts/research/husdatalake/disease/scripts/Preleukemia/oona_git'"
   ]
  },
  {
   "cell_type": "code",
   "execution_count": null,
   "id": "3e4d638d",
   "metadata": {},
   "outputs": [],
   "source": [
    "disease = 'MDS'"
   ]
  },
  {
   "cell_type": "code",
   "execution_count": null,
   "id": "f7e5b4d7",
   "metadata": {},
   "outputs": [],
   "source": [
    "data = pd.read_csv(my_path + '/data/modelling/' + disease + '_and_healthy_modelling_data.csv')\n",
    "data = data.drop(['Unnamed: 0', 'event_1y', 'time'], axis=1)"
   ]
  },
  {
   "cell_type": "code",
   "execution_count": null,
   "id": "bc1538f6",
   "metadata": {},
   "outputs": [],
   "source": [
    "def get_nan_percentage(df):\n",
    "    # Calculate the number of missing values in each column\n",
    "    nan_counts = df.isna().sum()\n",
    "    # Calculate the percentage of missing values\n",
    "    nan_percentage = (nan_counts / len(df)) * 100\n",
    "    return nan_percentage"
   ]
  },
  {
   "cell_type": "markdown",
   "id": "0fccae22",
   "metadata": {},
   "source": [
    "### Drop columns with too many nans"
   ]
  },
  {
   "cell_type": "code",
   "execution_count": null,
   "id": "7dbee5fb-d0f8-4c67-8ad3-33357b4e8433",
   "metadata": {},
   "outputs": [],
   "source": [
    "nan_percentages = get_nan_percentage(data)\n",
    "\n",
    "cols = list(nan_percentages.index)\n",
    "values = list(nan_percentages.values)\n",
    "\n",
    "too_many_missing = []\n",
    "\n",
    "for i in range(len(cols)):\n",
    "    \n",
    "    if values[i] > 75:\n",
    "        #print(True)\n",
    "        too_many_missing.append(cols[i])\n",
    "    \n",
    "\n",
    "too_many_missing"
   ]
  },
  {
   "cell_type": "code",
   "execution_count": null,
   "id": "f0e4bdef-5446-465d-a7c6-c7e67ea5cb14",
   "metadata": {},
   "outputs": [],
   "source": [
    "data = data.drop(columns=too_many_missing)"
   ]
  },
  {
   "cell_type": "markdown",
   "id": "c2156a36",
   "metadata": {},
   "source": [
    "### Create deriv and test sets"
   ]
  },
  {
   "cell_type": "code",
   "execution_count": null,
   "id": "78fb63ab",
   "metadata": {},
   "outputs": [],
   "source": [
    "disease_patients = list(data[data['disease'] == 1]['henkilotunnus'].unique())\n",
    "healthy_patients = list(data[data['disease'] == 0]['henkilotunnus'].unique())"
   ]
  },
  {
   "cell_type": "code",
   "execution_count": null,
   "id": "7784e810-a56b-41d6-bf07-f5253b02ed4b",
   "metadata": {},
   "outputs": [],
   "source": [
    "rs=123"
   ]
  },
  {
   "cell_type": "code",
   "execution_count": null,
   "id": "12b4841a",
   "metadata": {},
   "outputs": [],
   "source": [
    "deriv_disease, test_disease = deriv_test_split(disease_patients, shuffle=True, random_state=rs)\n",
    "deriv_healthy, test_healthy = deriv_test_split(healthy_patients, shuffle=True, random_state=rs)"
   ]
  },
  {
   "cell_type": "code",
   "execution_count": null,
   "id": "221df09c",
   "metadata": {},
   "outputs": [],
   "source": [
    "len(deriv_disease), len(test_disease)"
   ]
  },
  {
   "cell_type": "code",
   "execution_count": null,
   "id": "b4d33fa5",
   "metadata": {},
   "outputs": [],
   "source": [
    "len(deriv_healthy), len(test_healthy)"
   ]
  },
  {
   "cell_type": "code",
   "execution_count": null,
   "id": "be90cb25",
   "metadata": {},
   "outputs": [],
   "source": [
    "# Get datapoints based on patient lists\n",
    "deriv_disease_data = data[data['henkilotunnus'].isin(deriv_disease)]\n",
    "test_disease_data = data[data['henkilotunnus'].isin(test_disease)]\n",
    "\n",
    "deriv_healthy_data = data[data['henkilotunnus'].isin(deriv_healthy)]\n",
    "test_healthy_data = data[data['henkilotunnus'].isin(test_healthy)]"
   ]
  },
  {
   "cell_type": "code",
   "execution_count": null,
   "id": "4dc3ad7a",
   "metadata": {},
   "outputs": [],
   "source": [
    "# Concatenate disease + healthy sets together\n",
    "deriv_data = pd.concat([deriv_disease_data, deriv_healthy_data], ignore_index=True)\n",
    "test_data = pd.concat([test_disease_data, test_healthy_data], ignore_index=True)"
   ]
  },
  {
   "cell_type": "code",
   "execution_count": null,
   "id": "60e3d77c",
   "metadata": {},
   "outputs": [],
   "source": [
    "# Censoring 'disease' == 0\n",
    "deriv_data.loc[deriv_data['disease'] == 0, 'time_to_dg'] *= -1\n",
    "test_data.loc[test_data['disease'] == 0, 'time_to_dg'] *= -1"
   ]
  },
  {
   "cell_type": "code",
   "execution_count": null,
   "id": "a6d09a8a",
   "metadata": {},
   "outputs": [],
   "source": [
    "# Remove datapoints that were measured too close to diagnosis (< 1 month before dg)\n",
    "disease_dp_before_removal = len(deriv_data[deriv_data['disease'] == 1])\n",
    "deriv_data = deriv_data[(deriv_data['time_to_dg'] > 30) | (deriv_data['time_to_dg'] < 0)]\n",
    "disease_dp_after_removal = len(deriv_data[deriv_data['disease'] == 1])\n",
    "print(f'{disease_dp_before_removal - disease_dp_after_removal} disease = 1 datapoints were removed, as they were measured less than 30 days before diagnosis.')"
   ]
  },
  {
   "cell_type": "code",
   "execution_count": null,
   "id": "3def03a3",
   "metadata": {},
   "outputs": [],
   "source": [
    "# Remove datapoints that were measured too close to diagnosis (< 1 month before dg)\n",
    "disease_dp_before_removal = len(test_data[test_data['disease'] == 1])\n",
    "test_data = test_data[(test_data['time_to_dg'] > 30) | (test_data['time_to_dg'] < 0)]\n",
    "disease_dp_after_removal = len(test_data[test_data['disease'] == 1])\n",
    "print(f'{disease_dp_before_removal - disease_dp_after_removal} disease = 1 datapoints were removed, as they were measured less than 30 days before diagnosis.')"
   ]
  },
  {
   "cell_type": "code",
   "execution_count": null,
   "id": "b9bf4fc2",
   "metadata": {},
   "outputs": [],
   "source": [
    "deriv_ht = list(deriv_data['henkilotunnus'].unique())"
   ]
  },
  {
   "cell_type": "code",
   "execution_count": null,
   "id": "7d1ce485",
   "metadata": {},
   "outputs": [],
   "source": [
    "test_ht = list(test_data['henkilotunnus'].unique())"
   ]
  },
  {
   "cell_type": "code",
   "execution_count": null,
   "id": "795198c5",
   "metadata": {},
   "outputs": [],
   "source": [
    "def check_common_elements(list1, list2):\n",
    "    # Convert lists to sets for faster membership testing\n",
    "    set1 = set(list1)\n",
    "    set2 = set(list2)\n",
    "    \n",
    "    # Check if there is any common element\n",
    "    common_elements = set1.intersection(set2)\n",
    "    \n",
    "    return len(common_elements) > 0\n"
   ]
  },
  {
   "cell_type": "code",
   "execution_count": null,
   "id": "45b22cac",
   "metadata": {},
   "outputs": [],
   "source": [
    "check_common_elements(deriv_ht, test_ht)"
   ]
  },
  {
   "cell_type": "markdown",
   "id": "24fc55fa",
   "metadata": {},
   "source": [
    "### Save deriv and test sets"
   ]
  },
  {
   "cell_type": "code",
   "execution_count": null,
   "id": "47b2f5ff",
   "metadata": {},
   "outputs": [],
   "source": [
    "deriv_data = deriv_data.sample(frac=1).reset_index(drop=True)"
   ]
  },
  {
   "cell_type": "code",
   "execution_count": null,
   "id": "a92cf094",
   "metadata": {},
   "outputs": [],
   "source": [
    "test_data = test_data.sample(frac=1).reset_index(drop=True)"
   ]
  },
  {
   "cell_type": "code",
   "execution_count": null,
   "id": "42f80e6d",
   "metadata": {},
   "outputs": [],
   "source": [
    "deriv_data.to_csv(my_path + '/data/modelling/' + disease + '_derivation_data.csv', index=False)"
   ]
  },
  {
   "cell_type": "code",
   "execution_count": null,
   "id": "f785efe3",
   "metadata": {},
   "outputs": [],
   "source": [
    "test_data.to_csv(my_path + '/data/modelling/' + disease + '_test_data.csv', index=False)"
   ]
  },
  {
   "cell_type": "code",
   "execution_count": null,
   "id": "c63e2974",
   "metadata": {},
   "outputs": [],
   "source": []
  }
 ],
 "metadata": {
  "kernelspec": {
   "display_name": "Python 3 (ipykernel)",
   "language": "python",
   "name": "python3"
  },
  "language_info": {
   "codemirror_mode": {
    "name": "ipython",
    "version": 3
   },
   "file_extension": ".py",
   "mimetype": "text/x-python",
   "name": "python",
   "nbconvert_exporter": "python",
   "pygments_lexer": "ipython3",
   "version": "3.8.18"
  }
 },
 "nbformat": 4,
 "nbformat_minor": 5
}

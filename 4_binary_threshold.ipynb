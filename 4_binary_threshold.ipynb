{
 "cells": [
  {
   "cell_type": "code",
   "execution_count": null,
   "id": "1854541f",
   "metadata": {},
   "outputs": [],
   "source": [
    "import numpy as np\n",
    "import pandas as pd\n",
    "import matplotlib.pyplot as plt\n",
    "import seaborn as sns\n",
    "import math\n",
    "import warnings\n",
    "import sklearn\n",
    "import random\n",
    "import xgboost as xgb\n",
    "from sklearn.model_selection import train_test_split\n",
    "from sklearn.model_selection import ParameterGrid\n",
    "from sklearn.metrics import roc_curve, auc, f1_score, accuracy_score\n",
    "from sklearn.metrics import precision_recall_curve, average_precision_score\n",
    "from sksurv.metrics import cumulative_dynamic_auc, concordance_index_censored\n",
    "import ast\n",
    "import os\n",
    "\n",
    "warnings.filterwarnings(\"ignore\")\n",
    "\n",
    "#plt.style.use('ggplot')"
   ]
  },
  {
   "cell_type": "code",
   "execution_count": null,
   "id": "b51338a8",
   "metadata": {},
   "outputs": [],
   "source": [
    "def train_val_split(deriv_data, shuffle=True, random_state=42):\n",
    "    # Divide patients to train / validation / groups\n",
    "    \n",
    "    random.seed(random_state)\n",
    "    \n",
    "    patient_list = deriv_data['henkilotunnus'].unique()\n",
    "    \n",
    "    if shuffle == True:\n",
    "        random.shuffle(patient_list)\n",
    "    \n",
    "    # Calculate the number of items in each sublist\n",
    "    total_items = len(patient_list)\n",
    "    train_size = int(total_items * 0.85)\n",
    "    val_size = total_items - train_size  # To ensure all items are included\n",
    "\n",
    "    # Divide the list into sublists\n",
    "    train_list = patient_list[:train_size]\n",
    "    val_list = patient_list[train_size:]\n",
    "    \n",
    "    train_data = deriv_data[deriv_data['henkilotunnus'].isin(train_list)].reset_index(drop=True)\n",
    "    val_data = deriv_data[deriv_data['henkilotunnus'].isin(val_list)].reset_index(drop=True)\n",
    "\n",
    "    return train_data, val_data"
   ]
  },
  {
   "cell_type": "code",
   "execution_count": null,
   "id": "fadde161",
   "metadata": {},
   "outputs": [],
   "source": [
    "my_path = '~/mounts/research/husdatalake/disease/scripts/Preleukemia/oona_new'"
   ]
  },
  {
   "cell_type": "code",
   "execution_count": null,
   "id": "aeabf1ae",
   "metadata": {},
   "outputs": [],
   "source": [
    "disease = 'any_MN'"
   ]
  },
  {
   "cell_type": "code",
   "execution_count": null,
   "id": "515ec0bd",
   "metadata": {},
   "outputs": [],
   "source": [
    "deriv_data = pd.read_csv(my_path + '/data/modelling/' + disease + '_derivation_data.csv', engine='c', low_memory=False)"
   ]
  },
  {
   "cell_type": "code",
   "execution_count": null,
   "id": "ee9d177e",
   "metadata": {},
   "outputs": [],
   "source": [
    "nrounds = 1000\n",
    "early_stop = 10"
   ]
  },
  {
   "cell_type": "markdown",
   "id": "be5670e6",
   "metadata": {},
   "source": [
    "## Define binary classification threshold with 10-fold cross-validation"
   ]
  },
  {
   "cell_type": "code",
   "execution_count": null,
   "id": "a9aa4e0d",
   "metadata": {},
   "outputs": [],
   "source": [
    "cv = 10"
   ]
  },
  {
   "cell_type": "code",
   "execution_count": null,
   "id": "0c5652a6",
   "metadata": {},
   "outputs": [],
   "source": [
    "cv_result_df = pd.DataFrame(index=range(1), columns=['c_index_mean', 'c_index_std', 'AUC_mean', 'AUC_std', 'AUCPR_mean', 'AUCPR_std'])"
   ]
  },
  {
   "cell_type": "code",
   "execution_count": null,
   "id": "2e86b231",
   "metadata": {},
   "outputs": [],
   "source": [
    "cv_result_df"
   ]
  },
  {
   "cell_type": "code",
   "execution_count": null,
   "id": "28c94531",
   "metadata": {},
   "outputs": [],
   "source": [
    "c_indices = []\n",
    "AUCs = []\n",
    "AUCPRs = []\n",
    "\n",
    "# Save youden indices for binary classification\n",
    "youden_indices = []"
   ]
  },
  {
   "cell_type": "code",
   "execution_count": null,
   "id": "2cd3db9c",
   "metadata": {},
   "outputs": [],
   "source": [
    "print(f'\\nFINDING BINARY CLASSIFICATION THRESHOLD - {cv}-FOLD CROSS VALIDATION')"
   ]
  },
  {
   "cell_type": "code",
   "execution_count": null,
   "id": "bce0ab42-39d4-42b2-bbcd-f9b09b2988d4",
   "metadata": {},
   "outputs": [],
   "source": [
    "hyperparams = pd.read_csv('optimization/hyperparams/' + disease + '_hyperparameter_results_cv_new.csv')\n",
    "max_idx = hyperparams['AUC_mean'].idxmax()\n",
    "params = ast.literal_eval(hyperparams['params'].loc[max_idx])"
   ]
  },
  {
   "cell_type": "code",
   "execution_count": null,
   "id": "a5c00001-547f-416f-8ce6-7dd5c43722dc",
   "metadata": {},
   "outputs": [],
   "source": [
    "params"
   ]
  },
  {
   "cell_type": "code",
   "execution_count": null,
   "id": "bae645d3-5274-4273-b3d7-8f996885c3ee",
   "metadata": {},
   "outputs": [],
   "source": [
    "def reduce_train_data(train_data, shuffle=True, random_state=42):\n",
    "    \n",
    "    ## Reduce number of healthy datapoints -- 100 healthy controls per patient\n",
    "    \n",
    "    train_disease = train_data[train_data['disease'] == 1]\n",
    "    train_healthy = train_data[train_data['disease'] == 0]\n",
    "    n_train_d = len(train_disease['henkilotunnus'].unique())\n",
    "    n_train_h = n_train_d * 100\n",
    "    healthy_list = train_healthy['henkilotunnus'].unique()\n",
    "    \n",
    "    random.seed(random_state)\n",
    "    \n",
    "    if shuffle == True:\n",
    "        random.shuffle(healthy_list)\n",
    "    \n",
    "    healthy_subset = healthy_list[:n_train_h]\n",
    "    train_healthy_subset = train_healthy[train_healthy['henkilotunnus'].isin(healthy_subset)].reset_index(drop=True)\n",
    "    train_data = pd.concat([train_disease, train_healthy_subset], axis=0)\n",
    "\n",
    "    return train_data"
   ]
  },
  {
   "cell_type": "code",
   "execution_count": null,
   "id": "0ab33562",
   "metadata": {},
   "outputs": [],
   "source": [
    "for i in range(cv):\n",
    "\n",
    "    print('\\n\\tCV loop no: ', i+1)\n",
    "    \n",
    "    train_data, validation_data = train_val_split(deriv_data, shuffle=True, random_state=None)\n",
    "\n",
    "    # 100 controls per 1 patient\n",
    "    print('N train data rows before reduction: ', len(train_data))\n",
    "    train_data = reduce_train_data(train_data)\n",
    "    print('N train data rows after reduction: ', len(train_data))\n",
    "\n",
    "    # Drop hard positive rows from validation data\n",
    "    validation_data = validation_data[validation_data['hp'] != 1]\n",
    "\n",
    "    ## DELETE hp COLUMN FROM TRAIN / VAL\n",
    "    train_data = train_data.drop(columns=['hp'])\n",
    "    validation_data = validation_data.drop(columns=['hp'])\n",
    "    \n",
    "    # Check the class ratios\n",
    "    pos_ratio_train = 100 * train_data['disease'].value_counts()[1] / train_data['disease'].value_counts()[0]\n",
    "    pos_ratio_val = 100 * validation_data['disease'].value_counts()[1] / validation_data['disease'].value_counts()[0]\n",
    "    #pos_ratio_test = 100 * test_data['disease'].value_counts()[1] / test_data['disease'].value_counts()[0]\n",
    "    print(f'\\n{pos_ratio_train} % of the datapoints in the training set had disease = 1')\n",
    "    print(f'{pos_ratio_val} % of the datapoints in the validation set had disease = 1')\n",
    "\n",
    "    # Sanity check - is any of test indices in validation or training sets\n",
    "    print('\\nSanity check: Is there any validaion data in train set')\n",
    "    train_ht = list(train_data['henkilotunnus'].unique())\n",
    "    validation_ht = list(validation_data['henkilotunnus'].unique())\n",
    "    #test_ht = list(test_data['henkilotunnus'].unique())\n",
    "    val_in_train = np.intersect1d(validation_ht, train_ht).size > 0\n",
    "    print(val_in_train)\n",
    "\n",
    "    # Separate features and target variables\n",
    "    x_train = train_data.drop(columns=['henkilotunnus', 'disease', 'time_to_dg'])\n",
    "    y_train = train_data['time_to_dg']\n",
    "\n",
    "    x_val = validation_data.drop(columns=['henkilotunnus', 'disease', 'time_to_dg'])\n",
    "    y_val = validation_data['time_to_dg']\n",
    "\n",
    "    # Create DMatrix for XGBoost\n",
    "    dtrain = xgb.DMatrix(x_train, label=y_train)\n",
    "    dval = xgb.DMatrix(x_val, label=y_val)\n",
    "    \n",
    "    # Use validation set to watch performance\n",
    "    watchlist = [(dtrain,'train'), (dval,'eval')]\n",
    "\n",
    "    # Store validation results\n",
    "    evals_results = {}\n",
    "\n",
    "    # Train the model\n",
    "    xgb_model = xgb.train(params, dtrain, num_boost_round=nrounds, early_stopping_rounds=early_stop, evals=watchlist, evals_result=evals_results, verbose_eval=50)\n",
    "\n",
    "    # Predict risk scores\n",
    "    risk_scores_train = xgb_model.predict(dtrain)\n",
    "    risk_scores_val = xgb_model.predict(dval)\n",
    "\n",
    "    # Add risk scores to the dataframe\n",
    "    train_data['risk_score'] = risk_scores_train\n",
    "    validation_data['risk_score'] = risk_scores_val\n",
    "    \n",
    "    # Calculate C-index for validation set\n",
    "    # Negative times to positive for getting c-index\n",
    "    validation_data['time_to_dg'] = validation_data['time_to_dg'].apply(lambda x: -x if x < 0 else x)\n",
    "    c_index = concordance_index_censored(event_indicator=validation_data['disease'].replace({0 : False, 1 : True}), event_time=validation_data['time_to_dg'], estimate=validation_data['risk_score'])[0]\n",
    "    \n",
    "    # AUC-ROC\n",
    "    fpr, tpr, thresholds = roc_curve(validation_data['disease'], validation_data['risk_score'])\n",
    "    roc_auc = auc(fpr, tpr)\n",
    "\n",
    "    # Calculate youden index\n",
    "    youden_index = tpr - fpr\n",
    "    optimal_threshold_index = np.argmax(youden_index)\n",
    "    optimal_threshold = thresholds[optimal_threshold_index]\n",
    "    optimal_fpr = fpr[optimal_threshold_index]\n",
    "    optimal_tpr = tpr[optimal_threshold_index]\n",
    "    youden_indices.append(optimal_threshold)\n",
    "    print(f\"Youden index for for validation data: {optimal_threshold}\")\n",
    "    \n",
    "    # Plotting the ROC curve\n",
    "    fig = plt.figure(figsize=(6,6))\n",
    "    plt.plot(fpr, tpr, lw=3, label='ROC curve (area = %0.2f)' % roc_auc)\n",
    "    plt.scatter(optimal_fpr, optimal_tpr, color='r', zorder=5, label='Youden Index', marker='o',s=100)\n",
    "    #plt.scatter(f1_optimal_fpr, f1_optimal_tpr, color='b', zorder=5, label='F1 Index', marker='o',s=100)\n",
    "    plt.plot([0, 1], [0, 1], color='navy', lw=2, linestyle='--', alpha=0.3)\n",
    "    plt.xlim([0.0, 1.0])\n",
    "    plt.ylim([0.0, 1.05])\n",
    "    plt.xlabel('False Positive Rate', fontsize=15)\n",
    "    plt.ylabel('True Positive Rate', fontsize=15)\n",
    "    plt.title(f'Validation data', fontsize=15)\n",
    "    plt.xticks(fontsize=15, rotation=0)\n",
    "    plt.yticks(fontsize=15, rotation=0)\n",
    "    plt.legend(loc=\"lower right\")\n",
    "    sns.despine(fig=fig, ax=None, top=True, right=True, left=False, bottom=False, offset=None, trim=False)\n",
    "    plt.show()\n",
    "\n",
    "    # Calculate precision and recall\n",
    "    precision, recall, pr_thresholds = precision_recall_curve(validation_data['disease'], validation_data['risk_score'])\n",
    "    average_precision = average_precision_score(validation_data['disease'], validation_data['risk_score'])\n",
    "\n",
    "    # Convert risk scores to binary predictions using the optimal threshold\n",
    "    predicted_labels = (validation_data['risk_score'] >= optimal_threshold).astype(int)\n",
    "    validation_data['predicted_disease'] = predicted_labels\n",
    "\n",
    "    cfm = sklearn.metrics.confusion_matrix(validation_data['disease'], validation_data['predicted_disease'])\n",
    "    group_counts = ['{0:0.0f}'.format(value) for value in cfm.flatten()]\n",
    "    group_percentages = ['{0:.2%}'.format(value) for value in cfm.flatten()/np.sum(cfm)]\n",
    "    labels = [f'{v1}\\n\\n{v2}' for v1, v2 in zip(group_counts,group_percentages)]\n",
    "    labels = np.asarray(labels).reshape(2,2)\n",
    "    fig = plt.figure(figsize=(6,6))\n",
    "    sns.heatmap(cfm, annot=labels, annot_kws={'size': 18}, fmt='', cmap='Blues', cbar=False).set(ylabel='True label', xlabel='Predicted label')\n",
    "    plt.title(f'Validation data')\n",
    "    plt.show()\n",
    "\n",
    "    c_indices.append(c_index)\n",
    "    AUCs.append(roc_auc)\n",
    "    AUCPRs.append(average_precision)"
   ]
  },
  {
   "cell_type": "code",
   "execution_count": null,
   "id": "6d56b179",
   "metadata": {},
   "outputs": [],
   "source": [
    "cv_result_df.loc[0]['c_index_mean'] = np.mean(c_indices)\n",
    "cv_result_df.loc[0]['AUC_mean'] = np.mean(AUCs)\n",
    "cv_result_df.loc[0]['AUCPR_mean'] = np.mean(AUCPRs)\n",
    "\n",
    "cv_result_df.loc[0]['c_index_std'] = np.std(c_indices)\n",
    "cv_result_df.loc[0]['AUC_std'] = np.std(AUCs)\n",
    "cv_result_df.loc[0]['AUCPR_std'] = np.std(AUCPRs)"
   ]
  },
  {
   "cell_type": "code",
   "execution_count": null,
   "id": "69b5e378",
   "metadata": {
    "scrolled": true
   },
   "outputs": [],
   "source": [
    "cv_result_df"
   ]
  },
  {
   "cell_type": "markdown",
   "id": "7c613b2b",
   "metadata": {},
   "source": [
    "### Use average index on validation data across N cv loops as binary threshold "
   ]
  },
  {
   "cell_type": "code",
   "execution_count": null,
   "id": "d774344b-d31a-4273-8a1e-a4417a70ae95",
   "metadata": {},
   "outputs": [],
   "source": [
    "tr_path = 'results/basic_model/'\n",
    "import json\n",
    "\n",
    "avg_binary_threshold = np.mean(youden_indices)\n",
    "med_binary_threshold = np.median(youden_indices)\n",
    "print('Optimized avg binary threshold:', avg_binary_threshold)\n",
    "print('Optimized med binary threshold:', med_binary_threshold)\n",
    "\n",
    "tr = {'avg' : float(avg_binary_threshold), 'med' : float(med_binary_threshold)}\n",
    "with open(tr_path + disease + '_threshold_youden.json', 'w') as f:\n",
    "    json.dump(tr, f, indent=4)\n"
   ]
  },
  {
   "cell_type": "code",
   "execution_count": null,
   "id": "3a24ba5a",
   "metadata": {},
   "outputs": [],
   "source": []
  },
  {
   "cell_type": "code",
   "execution_count": null,
   "id": "d71f3272",
   "metadata": {},
   "outputs": [],
   "source": []
  },
  {
   "cell_type": "code",
   "execution_count": null,
   "id": "6dae947a",
   "metadata": {},
   "outputs": [],
   "source": []
  },
  {
   "cell_type": "code",
   "execution_count": null,
   "id": "1c6c0b38-4fa6-4de2-89ad-0357670e5c3c",
   "metadata": {},
   "outputs": [],
   "source": []
  },
  {
   "cell_type": "code",
   "execution_count": null,
   "id": "ee086003-20f3-4b4a-8ef2-0c6818b3f9c2",
   "metadata": {},
   "outputs": [],
   "source": []
  },
  {
   "cell_type": "code",
   "execution_count": null,
   "id": "7bcec6be-675e-48f5-bee6-817c2248162e",
   "metadata": {},
   "outputs": [],
   "source": []
  }
 ],
 "metadata": {
  "kernelspec": {
   "display_name": "Python 3 (ipykernel)",
   "language": "python",
   "name": "python3"
  },
  "language_info": {
   "codemirror_mode": {
    "name": "ipython",
    "version": 3
   },
   "file_extension": ".py",
   "mimetype": "text/x-python",
   "name": "python",
   "nbconvert_exporter": "python",
   "pygments_lexer": "ipython3",
   "version": "3.8.18"
  }
 },
 "nbformat": 4,
 "nbformat_minor": 5
}

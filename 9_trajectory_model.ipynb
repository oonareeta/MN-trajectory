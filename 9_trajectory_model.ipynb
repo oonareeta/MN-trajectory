{
 "cells": [
  {
   "cell_type": "code",
   "execution_count": null,
   "id": "46e8ea00-7ecc-4ea7-8fee-2fae207a5f52",
   "metadata": {},
   "outputs": [],
   "source": [
    "import numpy as np\n",
    "import pandas as pd\n",
    "import matplotlib.pyplot as plt\n",
    "import seaborn as sns\n",
    "import math\n",
    "import warnings\n",
    "import sklearn\n",
    "import random\n",
    "import xgboost as xgb\n",
    "from sklearn.model_selection import train_test_split\n",
    "from sklearn.model_selection import ParameterGrid\n",
    "from sklearn.metrics import roc_curve, auc, f1_score, accuracy_score\n",
    "from sklearn.metrics import precision_recall_curve, average_precision_score\n",
    "from sklearn.utils import class_weight\n",
    "from sklearn.preprocessing import StandardScaler\n",
    "from sklearn.ensemble import RandomForestClassifier\n",
    "from sklearn.metrics import confusion_matrix, ConfusionMatrixDisplay, classification_report\n",
    "import matplotlib.pyplot as plt\n",
    "from matplotlib.colors import LinearSegmentedColormap\n",
    "from sklearn.metrics import make_scorer, average_precision_score\n",
    "from sklearn.model_selection import RandomizedSearchCV\n",
    "import ast\n",
    "import os\n",
    "from scipy import stats\n",
    "import json\n",
    "import joblib\n",
    "\n",
    "\n",
    "warnings.filterwarnings(\"ignore\")\n",
    "\n",
    "#plt.style.use('ggplot')"
   ]
  },
  {
   "cell_type": "code",
   "execution_count": null,
   "id": "4732e4d5-7b91-475b-ba3b-84646a593bce",
   "metadata": {},
   "outputs": [],
   "source": [
    "def train_val_split(deriv_data, shuffle=True, random_state=42,train_perc=0.85):\n",
    "    # Divide patients to train / validation / groups\n",
    "    \n",
    "    random.seed(random_state)\n",
    "    # Divide patients to train / validation / groups\n",
    "    \n",
    "    patient_list = deriv_data['patient_id'].unique()\n",
    "    \n",
    "    if shuffle == True:\n",
    "        random.shuffle(patient_list)\n",
    "    \n",
    "    # Calculate the number of items in each sublist\n",
    "    total_items = len(patient_list)\n",
    "    train_size = int(total_items * train_perc)\n",
    "    val_size = total_items - train_size  # To ensure all items are included\n",
    "\n",
    "    # Divide the list into sublists\n",
    "    train_list = patient_list[:train_size]\n",
    "    val_list = patient_list[train_size:]\n",
    "    \n",
    "    train_data = deriv_data[deriv_data['patient_id'].isin(train_list)].reset_index(drop=True)\n",
    "    val_data = deriv_data[deriv_data['patient_id'].isin(val_list)].reset_index(drop=True)\n",
    "\n",
    "    return train_data, val_data"
   ]
  },
  {
   "cell_type": "code",
   "execution_count": null,
   "id": "b48204b9-b6f5-496c-adcd-fedbcd26124c",
   "metadata": {},
   "outputs": [],
   "source": [
    "fs=13"
   ]
  },
  {
   "cell_type": "code",
   "execution_count": null,
   "id": "8b375567-d01c-4c3b-a9f4-8787ca23254e",
   "metadata": {},
   "outputs": [],
   "source": [
    "def reduce_train_data(train_data, shuffle=True, random_state=42, ratio=100):\n",
    "    \n",
    "    ## Reduce number of healthy datapoints -- 100 healthy controls per patient\n",
    "    \n",
    "    train_disease = train_data[train_data['disease_status'] == 1]\n",
    "    train_healthy = train_data[train_data['disease_status'] == 0]\n",
    "    n_train_d = len(train_disease['patient_id'].unique())\n",
    "    n_train_h = n_train_d * ratio\n",
    "    healthy_list = train_healthy['patient_id'].unique()\n",
    "    \n",
    "    random.seed(random_state)\n",
    "    \n",
    "    if shuffle == True:\n",
    "        random.shuffle(healthy_list)\n",
    "    \n",
    "    healthy_subset = healthy_list[:n_train_h]\n",
    "    train_healthy_subset = train_healthy[train_healthy['patient_id'].isin(healthy_subset)].reset_index(drop=True)\n",
    "    train_data = pd.concat([train_disease, train_healthy_subset], axis=0)\n",
    "\n",
    "    return train_data"
   ]
  },
  {
   "cell_type": "code",
   "execution_count": null,
   "id": "a1ba7e0a-1cd0-4840-a849-a7e6221a453c",
   "metadata": {},
   "outputs": [],
   "source": [
    "my_path = '~/mounts/research/husdatalake/disease/scripts/Preleukemia/oona_new'"
   ]
  },
  {
   "cell_type": "code",
   "execution_count": null,
   "id": "0195be4a-4eb4-4e2f-b1ca-9b8f9f532bf0",
   "metadata": {},
   "outputs": [],
   "source": [
    "disease = 'MF'"
   ]
  },
  {
   "cell_type": "code",
   "execution_count": null,
   "id": "e866dbde-9c00-400a-b3da-a5683d9b4e6e",
   "metadata": {},
   "outputs": [],
   "source": [
    "if disease == 'de_novo_AML':\n",
    "    cmap = AML_cmap\n",
    "if disease == 'MDS':\n",
    "    cmap = MDS_cmap\n",
    "if disease == 'MF':\n",
    "    cmap = MF_cmap\n",
    "if disease == 'any_MN':\n",
    "    cmap = any_MN_cmap"
   ]
  },
  {
   "cell_type": "code",
   "execution_count": null,
   "id": "9c09a91f-4ce5-4bec-9108-38859eea32ee",
   "metadata": {},
   "outputs": [],
   "source": [
    "# Predicting if patient will get disease during the next X days\n",
    "prediction_horizon = 365 *5"
   ]
  },
  {
   "cell_type": "code",
   "execution_count": null,
   "id": "12dd250e-e5ae-408b-9648-c557dc882bec",
   "metadata": {},
   "outputs": [],
   "source": [
    "# How many previous datapoints are needed for applying trajectory model\n",
    "min_points=3"
   ]
  },
  {
   "cell_type": "code",
   "execution_count": null,
   "id": "f19c84f7-c45a-4ad7-9bab-b6f4eddb028f",
   "metadata": {},
   "outputs": [],
   "source": [
    "# Whether to include hard positives\n",
    "include_hp = True"
   ]
  },
  {
   "cell_type": "code",
   "execution_count": null,
   "id": "f07d6219-13a8-4df9-83e3-6465e70c0736",
   "metadata": {},
   "outputs": [],
   "source": [
    "optimize = True"
   ]
  },
  {
   "cell_type": "code",
   "execution_count": null,
   "id": "14512659-8784-4760-97fe-eb433536302c",
   "metadata": {},
   "outputs": [],
   "source": [
    "## Read first stage cox model binary threshold\n",
    "\n",
    "with open('results/basic_model/' + disease + '_threshold_youden.json', 'r') as f:\n",
    "    thresholds = json.load(f)\n",
    "\n",
    "binary_threshold = thresholds['med']\n",
    "\n",
    "print(binary_threshold)"
   ]
  },
  {
   "cell_type": "markdown",
   "id": "a0378229-2356-4221-a165-5f78f73efbf9",
   "metadata": {},
   "source": [
    "# 1. Read risk score feature data "
   ]
  },
  {
   "cell_type": "code",
   "execution_count": null,
   "id": "3542e2bc-4e24-4403-8f01-f0a8611c6090",
   "metadata": {},
   "outputs": [],
   "source": [
    "if include_hp == True:\n",
    "    features_df = pd.read_csv('trajectory_model/' + disease + '_full_risk_score_deriv_data_with_hp.csv', engine='c', low_memory=False)\n",
    "else:\n",
    "    features_df = pd.read_csv('trajectory_model/' + disease + '_full_risk_score_deriv_data.csv', engine='c', low_memory=False)"
   ]
  },
  {
   "cell_type": "code",
   "execution_count": null,
   "id": "65c86580-dd3b-49d7-b1dd-b92b05080e3b",
   "metadata": {},
   "outputs": [],
   "source": [
    "test_features_df = pd.read_csv('trajectory_model/' + disease + '_risk_score_test_data.csv', engine='c', low_memory=False)"
   ]
  },
  {
   "cell_type": "code",
   "execution_count": null,
   "id": "adc77190",
   "metadata": {},
   "outputs": [],
   "source": [
    "features_df['score_gt_thresh'] = features_df['risk_score_now'] >= binary_threshold"
   ]
  },
  {
   "cell_type": "code",
   "execution_count": null,
   "id": "15448602",
   "metadata": {},
   "outputs": [],
   "source": [
    "test_features_df['score_gt_thresh'] = test_features_df['risk_score_now'] >= binary_threshold"
   ]
  },
  {
   "cell_type": "code",
   "execution_count": null,
   "id": "3ebff5f5-640b-47dd-b6bc-58c2652202a4",
   "metadata": {},
   "outputs": [],
   "source": [
    "# Create label based on prediction horizon\n",
    "features_df['label'] = np.where(\n",
    "    (features_df['disease_status'] == 1) & (features_df['time_to_dg'] >= -prediction_horizon),\n",
    "    1,\n",
    "    0\n",
    ")"
   ]
  },
  {
   "cell_type": "code",
   "execution_count": null,
   "id": "363cd16e-a347-4269-b4c9-19a19c7f5f22",
   "metadata": {},
   "outputs": [],
   "source": [
    "# Create label based on prediction horizon\n",
    "test_features_df['label'] = np.where(\n",
    "    (test_features_df['disease_status'] == 1) & (test_features_df['time_to_dg'] >= -prediction_horizon),\n",
    "    1,\n",
    "    0\n",
    ")"
   ]
  },
  {
   "cell_type": "code",
   "execution_count": null,
   "id": "34f17a4b-37e4-4cf9-8953-d47a33472da1",
   "metadata": {},
   "outputs": [],
   "source": [
    "features_df.loc[features_df['label'] == 1, 'time_to_dg'] = features_df.loc[features_df['label'] == 1, 'time_to_dg'].abs()"
   ]
  },
  {
   "cell_type": "code",
   "execution_count": null,
   "id": "036c480e-acb7-43c0-b933-26f524c03374",
   "metadata": {},
   "outputs": [],
   "source": [
    "test_features_df.loc[test_features_df['label'] == 1, 'time_to_dg'] = test_features_df.loc[test_features_df['label'] == 1, 'time_to_dg'].abs()"
   ]
  },
  {
   "cell_type": "code",
   "execution_count": null,
   "id": "1981b0b1-c738-4796-9a8b-6962887c9a47",
   "metadata": {},
   "outputs": [],
   "source": [
    "features_df = features_df[features_df['n_prev']>= min_points]"
   ]
  },
  {
   "cell_type": "code",
   "execution_count": null,
   "id": "159e22ca-7f91-4bdd-8901-c70f2bd36703",
   "metadata": {},
   "outputs": [],
   "source": [
    "remaining_test_features_df = test_features_df[test_features_df['n_prev']< min_points]\n",
    "remaining_test_features_df['simple_label'] = remaining_test_features_df['score_gt_thresh'].astype(int)\n",
    "remaining_test_features_df['predicted_label'] = remaining_test_features_df['simple_label']"
   ]
  },
  {
   "cell_type": "code",
   "execution_count": null,
   "id": "a11e7b71-85b5-40e1-9e92-3706fd377195",
   "metadata": {},
   "outputs": [],
   "source": [
    "test_features_df = test_features_df[test_features_df['n_prev']>= min_points]"
   ]
  },
  {
   "cell_type": "code",
   "execution_count": null,
   "id": "07559865-644d-4393-a103-c2f2e168bd86",
   "metadata": {},
   "outputs": [],
   "source": [
    "features_df"
   ]
  },
  {
   "cell_type": "code",
   "execution_count": null,
   "id": "66161112-8e90-4fa1-8e75-c8c7dc876f24",
   "metadata": {},
   "outputs": [],
   "source": [
    "test_features_df"
   ]
  },
  {
   "cell_type": "markdown",
   "id": "e0a9b692-b79b-4661-b330-fad2a5ede328",
   "metadata": {},
   "source": [
    "# 2. Train cox model"
   ]
  },
  {
   "cell_type": "code",
   "execution_count": null,
   "id": "6ac126af-29b6-413c-96ff-e5fdd7a30b2a",
   "metadata": {},
   "outputs": [],
   "source": [
    "hyperparams = pd.read_csv('trajectory_model/' + disease + '_hyperparameter_results_cv.csv')\n",
    "max_idx = hyperparams['AUC_mean'].idxmax()\n",
    "params = ast.literal_eval(hyperparams['params'].loc[max_idx])"
   ]
  },
  {
   "cell_type": "raw",
   "id": "db0339c1-ace8-49d1-b8d6-d1a0d7945fe4",
   "metadata": {},
   "source": [
    "params"
   ]
  },
  {
   "cell_type": "markdown",
   "id": "6cf3af2a-73dc-406c-83a1-2ffc3df85334",
   "metadata": {},
   "source": [
    "## Read previously optimized threshold"
   ]
  },
  {
   "cell_type": "code",
   "execution_count": null,
   "id": "41fe51ab-a4f6-4f12-80cd-76dfe8343fcc",
   "metadata": {},
   "outputs": [],
   "source": [
    "with open('trajectory_model/' + disease + '_threshold.json', 'r') as f:\n",
    "    threshold = json.load(f)"
   ]
  },
  {
   "cell_type": "code",
   "execution_count": null,
   "id": "d837e651-75ab-4520-86f9-05c3555140d6",
   "metadata": {},
   "outputs": [],
   "source": [
    "final_best_threshold = threshold['med']"
   ]
  },
  {
   "cell_type": "code",
   "execution_count": null,
   "id": "611ab8b6-9f06-45a0-b8a4-15a7ad0922bd",
   "metadata": {},
   "outputs": [],
   "source": [
    "final_best_threshold"
   ]
  },
  {
   "cell_type": "markdown",
   "id": "e594166c-d117-4a9e-8402-38e969c29203",
   "metadata": {},
   "source": [
    "## Train final model"
   ]
  },
  {
   "cell_type": "code",
   "execution_count": null,
   "id": "9097068a-5781-4fc3-b366-ab7c96430edf",
   "metadata": {},
   "outputs": [],
   "source": [
    "train, val = train_val_split(features_df,random_state=42, train_perc=0.85)"
   ]
  },
  {
   "cell_type": "code",
   "execution_count": null,
   "id": "2ea92815-0330-4012-a8ad-35a3b9e5a848",
   "metadata": {},
   "outputs": [],
   "source": [
    "# Train classifier on rows with enough prior data\n",
    "train = train[train['n_prev'] >= min_points].copy()"
   ]
  },
  {
   "cell_type": "code",
   "execution_count": null,
   "id": "f97e61fd-bae3-497e-8c70-57e16d6d89be",
   "metadata": {},
   "outputs": [],
   "source": [
    "test = test_features_df.copy()"
   ]
  },
  {
   "cell_type": "code",
   "execution_count": null,
   "id": "6dea7688-dd41-4073-9737-42f79fdb81a8",
   "metadata": {},
   "outputs": [],
   "source": [
    "# How many controls per patient?\n",
    "ratio=100"
   ]
  },
  {
   "cell_type": "code",
   "execution_count": null,
   "id": "759850b7-1923-4a25-9f67-4006519bc275",
   "metadata": {},
   "outputs": [],
   "source": [
    "# <ratio> controls per 1 patient\n",
    "print('N train data rows before reduction: ', len(train))\n",
    "train = reduce_train_data(train, ratio=ratio)\n",
    "print('N train data rows after reduction: ', len(train))\n",
    "\n",
    "X_train = train.drop(columns=['patient_id', 'disease_status', 'time_to_dg', 'label', 'score_gt_thresh'])\n",
    "y_train = train['time_to_dg']\n",
    "X_val = val.drop(columns=['patient_id', 'disease_status', 'time_to_dg', 'label', 'score_gt_thresh'])\n",
    "y_val = val['time_to_dg']\n",
    "X_test = test.drop(columns=['patient_id', 'disease_status', 'time_to_dg', 'label', 'score_gt_thresh'])\n",
    "y_test = test['time_to_dg']"
   ]
  },
  {
   "cell_type": "code",
   "execution_count": null,
   "id": "14994ccc-e4e9-4d9f-853a-7b9b3a4ea2ea",
   "metadata": {},
   "outputs": [],
   "source": [
    "# Save x_train for getting SHAP values\n",
    "X_train.to_csv('trajectory_model/' + disease + '_x_train.csv', index=False)"
   ]
  },
  {
   "cell_type": "code",
   "execution_count": null,
   "id": "be438acc-3bac-4d2b-9bee-45dc59ee913d",
   "metadata": {},
   "outputs": [],
   "source": [
    "# Create DMatrix for XGBoost\n",
    "dtrain = xgb.DMatrix(X_train, label=y_train)\n",
    "dval = xgb.DMatrix(X_val, label=y_val)\n",
    "dtest = xgb.DMatrix(X_test, label=y_test)"
   ]
  },
  {
   "cell_type": "code",
   "execution_count": null,
   "id": "06a5e8cb-d85d-4b7f-b489-72e560d24cff",
   "metadata": {},
   "outputs": [],
   "source": [
    "nrounds=1000\n",
    "early_stop=20"
   ]
  },
  {
   "cell_type": "code",
   "execution_count": null,
   "id": "932de91e-f1bc-42d4-9db5-ad424e287030",
   "metadata": {},
   "outputs": [],
   "source": [
    "# Use validation set to watch performance\n",
    "watchlist = [(dtrain,'train'), (dval,'eval')]\n",
    "\n",
    "# Store validation results\n",
    "evals_results = {}\n",
    "\n",
    "# Train the model\n",
    "print(f'\\nTraining the model with parameters: ')\n",
    "print(params)\n",
    "\n",
    "xgb_model = xgb.train(params, dtrain, num_boost_round=nrounds, early_stopping_rounds=early_stop, evals=watchlist, evals_result=evals_results, verbose_eval=50)"
   ]
  },
  {
   "cell_type": "code",
   "execution_count": null,
   "id": "f5afc4be-989d-4f93-bbf0-2bd28f8391ae",
   "metadata": {},
   "outputs": [],
   "source": [
    "# Training and validation losses\n",
    "tr_loss = list(evals_results['train'].values())[0]\n",
    "val_loss = list(evals_results['eval'].values())[0]\n",
    "plt.plot(range(len(tr_loss)), tr_loss, label='Training loss')\n",
    "plt.plot(range(len(tr_loss)), val_loss, label='Validation loss')\n",
    "plt.legend()\n",
    "plt.show()"
   ]
  },
  {
   "cell_type": "code",
   "execution_count": null,
   "id": "800d0825-348b-4bb5-8018-60eef7e3d495",
   "metadata": {},
   "outputs": [],
   "source": [
    "# Save model\n",
    "\n",
    "joblib.dump(xgb_model, 'trajectory_model/' + disease + '_risk_classifier_optimized.joblib')\n"
   ]
  },
  {
   "cell_type": "code",
   "execution_count": null,
   "id": "268da8a5-e0c4-4b18-91c1-32ec786fc3c6",
   "metadata": {},
   "outputs": [],
   "source": [
    "# Predict risk scores\n",
    "risk_scores_train = xgb_model.predict(dtrain)\n",
    "risk_scores_val = xgb_model.predict(dval)\n",
    "risk_scores_test = xgb_model.predict(dtest)\n",
    "\n",
    "# Add risk scores to the dataframe\n",
    "train['risk_score'] = risk_scores_train\n",
    "val['risk_score'] = risk_scores_val\n",
    "test['risk_score'] = risk_scores_test"
   ]
  },
  {
   "cell_type": "markdown",
   "id": "6360f078-c986-4a55-a8da-081804e63a06",
   "metadata": {},
   "source": [
    "# 3. Evaluate on validation data"
   ]
  },
  {
   "cell_type": "code",
   "execution_count": null,
   "id": "658a0872-3626-45d3-afd3-4fa8330e07fd",
   "metadata": {},
   "outputs": [],
   "source": [
    "val[val['label'] == 0]['risk_score'].hist(bins=50)"
   ]
  },
  {
   "cell_type": "code",
   "execution_count": null,
   "id": "2066c399-70f3-48e6-bce3-53951862d5c5",
   "metadata": {},
   "outputs": [],
   "source": [
    "val[val['label'] == 1]['risk_score'].hist(bins=50)"
   ]
  },
  {
   "cell_type": "code",
   "execution_count": null,
   "id": "e65f1b96-a53d-468a-b50b-fd2b1150fc4b",
   "metadata": {},
   "outputs": [],
   "source": [
    "fpr, tpr, thresholds = roc_curve(val['label'], val['risk_score'])\n",
    "roc_auc = auc(fpr, tpr)\n",
    "    \n",
    "# Plotting the ROC curve\n",
    "fig = plt.figure(figsize=(6,6))\n",
    "plt.plot(fpr, tpr, lw=3, label='ROC curve (area = %0.2f)' % roc_auc)\n",
    "#plt.scatter(optimal_fpr, optimal_tpr, color='r', zorder=5, label='Youden Index', marker='o',s=100)\n",
    "#plt.scatter(f1_optimal_fpr, f1_optimal_tpr, color='b', zorder=5, label='F1 Index', marker='o',s=100)\n",
    "plt.plot([0, 1], [0, 1], color='navy', lw=2, linestyle='--', alpha=0.3)\n",
    "plt.xlim([0.0, 1.0])\n",
    "plt.ylim([0.0, 1.05])\n",
    "plt.xlabel('False Positive Rate', fontsize=15)\n",
    "plt.ylabel('True Positive Rate', fontsize=15)\n",
    "plt.title(f'Validation data', fontsize=15)\n",
    "plt.xticks(fontsize=15, rotation=0)\n",
    "plt.yticks(fontsize=15, rotation=0)\n",
    "plt.legend(loc=\"lower right\")\n",
    "sns.despine(fig=fig, ax=None, top=True, right=True, left=False, bottom=False, offset=None, trim=False)\n",
    "plt.show()\n",
    "plt.close()"
   ]
  },
  {
   "cell_type": "code",
   "execution_count": null,
   "id": "1c219b5e-ffff-44bd-8c73-59f11307d91a",
   "metadata": {},
   "outputs": [],
   "source": [
    "val['simple_label'] = val['score_gt_thresh'].astype(int)\n",
    "val['predicted_label'] = (val['risk_score'] >= final_best_threshold).astype(int)"
   ]
  },
  {
   "cell_type": "markdown",
   "id": "850a57fb-967a-4890-a33f-71bd7c9ae891",
   "metadata": {},
   "source": [
    "# 4. Evaluate on test data"
   ]
  },
  {
   "cell_type": "code",
   "execution_count": null,
   "id": "9f0d841e-3b45-4a70-88f0-96bf245370ba",
   "metadata": {},
   "outputs": [],
   "source": [
    "test[test['label'] == 0]['risk_score'].hist(bins=50)"
   ]
  },
  {
   "cell_type": "code",
   "execution_count": null,
   "id": "16463fed-c6d5-4365-a423-8d125ee9d126",
   "metadata": {},
   "outputs": [],
   "source": [
    "test[test['label'] == 1]['risk_score'].hist(bins=50)"
   ]
  },
  {
   "cell_type": "code",
   "execution_count": null,
   "id": "d2c004d6-8dcd-4a45-8401-df28ac2bcf85",
   "metadata": {},
   "outputs": [],
   "source": [
    "fpr, tpr, thresholds = roc_curve(test['label'], test['risk_score'])\n",
    "roc_auc = auc(fpr, tpr)\n",
    "\n",
    "fpr2, tpr2, thresholds2 = roc_curve(test['label'], test['risk_score_now'])\n",
    "roc_auc2 = auc(fpr2, tpr2)\n",
    "    \n",
    "    \n",
    "# Plotting the ROC curve\n",
    "fig = plt.figure(figsize=(6,6))\n",
    "plt.plot(fpr, tpr, lw=3, label='With trajectory model (area = %0.2f)' % roc_auc,color='m')\n",
    "plt.plot(fpr2, tpr2, lw=3, label='Without trajectory model (area = %0.2f)' % roc_auc2)\n",
    "#plt.scatter(optimal_fpr, optimal_tpr, color='r', zorder=5, label='Youden Index', marker='o',s=100)\n",
    "#plt.scatter(f1_optimal_fpr, f1_optimal_tpr, color='b', zorder=5, label='F1 Index', marker='o',s=100)\n",
    "plt.plot([0, 1], [0, 1], color='navy', lw=2, linestyle='--', alpha=0.3)\n",
    "plt.xlim([0.0, 1.0])\n",
    "plt.ylim([0.0, 1.05])\n",
    "plt.xlabel('False Positive Rate', fontsize=15)\n",
    "plt.ylabel('True Positive Rate', fontsize=15)\n",
    "plt.title(f'Test data', fontsize=15)\n",
    "plt.xticks(fontsize=15, rotation=0)\n",
    "plt.yticks(fontsize=15, rotation=0)\n",
    "plt.legend(loc=\"lower right\")\n",
    "sns.despine(fig=fig, ax=None, top=True, right=True, left=False, bottom=False, offset=None, trim=False)\n",
    "plt.show()\n",
    "plt.close()"
   ]
  },
  {
   "cell_type": "code",
   "execution_count": null,
   "id": "e6396b03-7ce9-4063-8301-4e0ffd3b9411",
   "metadata": {},
   "outputs": [],
   "source": [
    "test['simple_label'] = test['score_gt_thresh'].astype(int)\n",
    "test['predicted_label'] = (test['risk_score'] >= final_best_threshold).astype(int)"
   ]
  },
  {
   "cell_type": "code",
   "execution_count": null,
   "id": "b55f85df-4935-4214-9fc1-94935a9f4c60",
   "metadata": {},
   "outputs": [],
   "source": [
    "# Concatenate remaining test set with simple predictions\n",
    "test = pd.concat([test, remaining_test_features_df])"
   ]
  },
  {
   "cell_type": "code",
   "execution_count": null,
   "id": "5588f31f-1972-47bc-aee2-15a5e1251195",
   "metadata": {},
   "outputs": [],
   "source": [
    "test"
   ]
  },
  {
   "cell_type": "code",
   "execution_count": null,
   "id": "3c5e1116-cf2d-4b6c-94c0-eb4ef9dbf825",
   "metadata": {},
   "outputs": [],
   "source": [
    "test.to_csv('trajectory_model/' + disease + '_test_data_with_predictions.csv', index=False)"
   ]
  },
  {
   "cell_type": "code",
   "execution_count": null,
   "id": "671adf7f-eefd-4a10-a8ff-06d230acfe86",
   "metadata": {},
   "outputs": [],
   "source": []
  }
 ],
 "metadata": {
  "kernelspec": {
   "display_name": "Python 3 (ipykernel)",
   "language": "python",
   "name": "python3"
  },
  "language_info": {
   "codemirror_mode": {
    "name": "ipython",
    "version": 3
   },
   "file_extension": ".py",
   "mimetype": "text/x-python",
   "name": "python",
   "nbconvert_exporter": "python",
   "pygments_lexer": "ipython3",
   "version": "3.8.18"
  }
 },
 "nbformat": 4,
 "nbformat_minor": 5
}

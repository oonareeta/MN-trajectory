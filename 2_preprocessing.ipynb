{
 "cells": [
  {
   "cell_type": "code",
   "execution_count": null,
   "id": "667e8838",
   "metadata": {},
   "outputs": [],
   "source": [
    "import numpy as np\n",
    "import pandas as pd\n",
    "import matplotlib.pyplot as plt\n",
    "import seaborn as sns\n",
    "import math\n",
    "import warnings\n",
    "import sklearn\n",
    "import random\n",
    "import xgboost as xgb\n",
    "import ast\n",
    "from sklearn.feature_selection import VarianceThreshold\n",
    "\n",
    "warnings.filterwarnings(\"ignore\")\n",
    "\n",
    "plt.style.use('ggplot')"
   ]
  },
  {
   "cell_type": "code",
   "execution_count": null,
   "id": "03aae952-c422-48d4-ad30-c2c0359771d3",
   "metadata": {},
   "outputs": [],
   "source": [
    "my_path = '~/mounts/research/husdatalake/disease/scripts/Preleukemia/oona_git'"
   ]
  },
  {
   "cell_type": "code",
   "execution_count": null,
   "id": "158d8fb6-4ac3-43b0-a8b2-0c402b20d943",
   "metadata": {},
   "outputs": [],
   "source": [
    "disease = 'MDS'"
   ]
  },
  {
   "cell_type": "code",
   "execution_count": null,
   "id": "9cb7dd81-6ad2-4aea-b3a5-76a7f4be1012",
   "metadata": {},
   "outputs": [],
   "source": [
    "deriv_data = pd.read_csv(my_path + '/data/modelling/' + disease + '_derivation_data.csv')"
   ]
  },
  {
   "cell_type": "code",
   "execution_count": null,
   "id": "09171dc1",
   "metadata": {},
   "outputs": [],
   "source": [
    "features = deriv_data.drop(columns=['henkilotunnus','time_to_dg','disease'])"
   ]
  },
  {
   "cell_type": "markdown",
   "id": "fa77dca9",
   "metadata": {},
   "source": [
    "### Remove features with high collinearity (>0.95)"
   ]
  },
  {
   "cell_type": "markdown",
   "id": "fa8fdbc7",
   "metadata": {},
   "source": [
    "### Remove variables with high correlation"
   ]
  },
  {
   "cell_type": "code",
   "execution_count": null,
   "id": "28b6070b",
   "metadata": {},
   "outputs": [],
   "source": [
    "def collinear_features(x, threshold):\n",
    "    '''\n",
    "    Find correlating features in a dataframe\n",
    "    '''\n",
    "    \n",
    "    # Store correlating pairs into a list\n",
    "    correlating_pairs = []\n",
    "\n",
    "    # Calculate the correlation matrix\n",
    "    corr_matrix = x.corr()\n",
    "    iters = range(len(corr_matrix.columns) - 1)\n",
    "    drop_cols = []\n",
    "\n",
    "    # Iterate through the correlation matrix and compare correlations\n",
    "    for i in iters:\n",
    "        for j in range(i+1):\n",
    "            item = corr_matrix.iloc[j:(j+1), (i+1):(i+2)]\n",
    "            col = item.columns\n",
    "            row = item.index\n",
    "            val = abs(item.values)\n",
    "\n",
    "            # If correlation exceeds the threshold\n",
    "            if val >= threshold:\n",
    "                # Print the correlated features and the correlation value\n",
    "                print(col.values[0], \"|\", row.values[0], \"|\", round(val[0][0], 2))\n",
    "                correlating_pairs.append((col.values[0], row.values[0]))\n",
    "                \n",
    "    return correlating_pairs"
   ]
  },
  {
   "cell_type": "code",
   "execution_count": null,
   "id": "bc730d97",
   "metadata": {},
   "outputs": [],
   "source": [
    "correlating_pairs = collinear_features(deriv_data, threshold=0.95)"
   ]
  },
  {
   "cell_type": "code",
   "execution_count": null,
   "id": "60ecf78e",
   "metadata": {},
   "outputs": [],
   "source": [
    "len(correlating_pairs)"
   ]
  },
  {
   "cell_type": "code",
   "execution_count": null,
   "id": "a08a1d4f",
   "metadata": {},
   "outputs": [],
   "source": [
    "vars_to_remove = []\n",
    "\n",
    "for pair in correlating_pairs:\n",
    "    var1 = pair[0]\n",
    "    var2 = pair[1]\n",
    "    vars_to_remove.append(var1)"
   ]
  },
  {
   "cell_type": "code",
   "execution_count": null,
   "id": "a7e83d12",
   "metadata": {},
   "outputs": [],
   "source": [
    "deriv_data = deriv_data.drop(columns=vars_to_remove)"
   ]
  },
  {
   "cell_type": "code",
   "execution_count": null,
   "id": "40a2901f",
   "metadata": {},
   "outputs": [],
   "source": [
    "print(f'Removed {len(vars_to_remove)} columns with high correlation')"
   ]
  },
  {
   "cell_type": "markdown",
   "id": "4d140fd9",
   "metadata": {},
   "source": [
    "### Save features"
   ]
  },
  {
   "cell_type": "code",
   "execution_count": null,
   "id": "596b9e2a",
   "metadata": {},
   "outputs": [],
   "source": [
    "features = pd.DataFrame()\n",
    "\n",
    "features['features'] = deriv_data.drop(columns=['henkilotunnus', 'disease', 'time_to_dg']).columns.to_list()"
   ]
  },
  {
   "cell_type": "code",
   "execution_count": null,
   "id": "e1e0c1c9",
   "metadata": {},
   "outputs": [],
   "source": [
    "features"
   ]
  },
  {
   "cell_type": "code",
   "execution_count": null,
   "id": "f7a87a4d",
   "metadata": {},
   "outputs": [],
   "source": [
    "features.to_csv(my_path + '/optimization/feature_selection/' + disease + '_features.csv', index=False)"
   ]
  },
  {
   "cell_type": "code",
   "execution_count": null,
   "id": "d6b65dbb-4f8e-4285-85d8-d5aaae9ff6f7",
   "metadata": {},
   "outputs": [],
   "source": []
  },
  {
   "cell_type": "code",
   "execution_count": null,
   "id": "e11b30a2-dc30-47cd-9ae3-d72401cd8bc6",
   "metadata": {},
   "outputs": [],
   "source": []
  }
 ],
 "metadata": {
  "kernelspec": {
   "display_name": "Python 3 (ipykernel)",
   "language": "python",
   "name": "python3"
  },
  "language_info": {
   "codemirror_mode": {
    "name": "ipython",
    "version": 3
   },
   "file_extension": ".py",
   "mimetype": "text/x-python",
   "name": "python",
   "nbconvert_exporter": "python",
   "pygments_lexer": "ipython3",
   "version": "3.8.18"
  }
 },
 "nbformat": 4,
 "nbformat_minor": 5
}

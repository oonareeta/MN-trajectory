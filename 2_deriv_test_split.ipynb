{
 "cells": [
  {
   "cell_type": "code",
   "execution_count": null,
   "id": "f404f109",
   "metadata": {},
   "outputs": [],
   "source": [
    "import numpy as np\n",
    "import pandas as pd\n",
    "import matplotlib.pyplot as plt\n",
    "import seaborn as sns\n",
    "import math\n",
    "import warnings\n",
    "import sklearn\n",
    "import random\n",
    "from sklearn.neighbors import NearestNeighbors\n",
    "\n",
    "warnings.filterwarnings(\"ignore\")"
   ]
  },
  {
   "cell_type": "markdown",
   "id": "99578427",
   "metadata": {},
   "source": [
    "### Do derivation / test split"
   ]
  },
  {
   "cell_type": "code",
   "execution_count": null,
   "id": "b1c3fe4e-4a21-4f3f-a7fc-4e88bcd12847",
   "metadata": {},
   "outputs": [],
   "source": [
    "def deriv_test_split(patient_list, shuffle=False, random_state=42):\n",
    "    # Divide patients to train / validation / test groups\n",
    "         \n",
    "    random.seed(random_state)\n",
    "    \n",
    "    if shuffle == True:\n",
    "        random.shuffle(patient_list)\n",
    "    \n",
    "    # Calculate the number of items in each sublist\n",
    "    total_items = len(patient_list)\n",
    "    deriv_size = int(total_items * 0.85)\n",
    "    test_size = total_items - deriv_size  # To ensure all items are included\n",
    "\n",
    "    # Divide the list into sublists\n",
    "    deriv_list = patient_list[:deriv_size]\n",
    "    test_list = patient_list[deriv_size:]\n",
    "\n",
    "    return deriv_list, test_list"
   ]
  },
  {
   "cell_type": "code",
   "execution_count": null,
   "id": "127376c2",
   "metadata": {},
   "outputs": [],
   "source": [
    "my_path = '~/mounts/research/husdatalake/disease/scripts/Preleukemia/oona_new'"
   ]
  },
  {
   "cell_type": "code",
   "execution_count": null,
   "id": "3e4d638d",
   "metadata": {},
   "outputs": [],
   "source": [
    "disease = 'any_MN'"
   ]
  },
  {
   "cell_type": "code",
   "execution_count": null,
   "id": "f7e5b4d7",
   "metadata": {},
   "outputs": [],
   "source": [
    "data_all = pd.read_csv(my_path + '/data/modelling/' + disease + '_modelling_data_reduced.csv', engine='c', low_memory=False)"
   ]
  },
  {
   "cell_type": "code",
   "execution_count": null,
   "id": "4c1eb029-a148-4707-a144-fa040c5d3366",
   "metadata": {},
   "outputs": [],
   "source": [
    "data_all"
   ]
  },
  {
   "cell_type": "markdown",
   "id": "4d6612a4-c54b-4c23-bfc1-b458d8c1526b",
   "metadata": {},
   "source": [
    "## Filter out hard positive rows"
   ]
  },
  {
   "cell_type": "code",
   "execution_count": null,
   "id": "43925c12-e812-4bb1-a4b9-56fc168b1732",
   "metadata": {},
   "outputs": [],
   "source": [
    "hard_positives = data_all[(data_all['disease'] == 1) & (data_all['time_to_dg'] < 90)]\n",
    "\n",
    "data = data_all.drop(hard_positives.index)"
   ]
  },
  {
   "cell_type": "code",
   "execution_count": null,
   "id": "60e90a7d-31db-4ea5-922d-17ad5898fd1b",
   "metadata": {},
   "outputs": [],
   "source": [
    "len(data)+len(hard_positives)"
   ]
  },
  {
   "cell_type": "code",
   "execution_count": null,
   "id": "8b56e353-fd68-45f4-be2e-45a7e1fdb687",
   "metadata": {},
   "outputs": [],
   "source": [
    "hard_positives['time_to_dg'].hist()"
   ]
  },
  {
   "cell_type": "code",
   "execution_count": null,
   "id": "a345e197-7fc2-426b-875e-14dcf54c5078",
   "metadata": {},
   "outputs": [],
   "source": [
    "## Keep only hard positives up to +10 days after diagnosis\n",
    "hard_positives = hard_positives[hard_positives['time_to_dg'] >= -10]"
   ]
  },
  {
   "cell_type": "code",
   "execution_count": null,
   "id": "e843b713-d142-4045-bfd1-156947620ac6",
   "metadata": {},
   "outputs": [],
   "source": [
    "hard_positives['time_to_dg'].hist()"
   ]
  },
  {
   "cell_type": "code",
   "execution_count": null,
   "id": "18e53792-553d-43a5-a161-85f3058d9ae3",
   "metadata": {},
   "outputs": [],
   "source": [
    "# Replace negative values (measured after dg) with 0, keep others unchanged\n",
    "hard_positives['time_to_dg'] = hard_positives['time_to_dg'].apply(lambda x: 0 if x < 0 else x)"
   ]
  },
  {
   "cell_type": "code",
   "execution_count": null,
   "id": "f5cf4eca-c017-41f8-8250-3fc053b49614",
   "metadata": {},
   "outputs": [],
   "source": [
    "hard_positives['time_to_dg'].hist()"
   ]
  },
  {
   "cell_type": "code",
   "execution_count": null,
   "id": "360faea5-3a00-42ae-97ac-4e20c560dde5",
   "metadata": {},
   "outputs": [],
   "source": [
    "hard_positives['hp'] = 1"
   ]
  },
  {
   "cell_type": "markdown",
   "id": "38d517af-3416-4c92-a2db-3b38c39bc60e",
   "metadata": {},
   "source": [
    "## Check data"
   ]
  },
  {
   "cell_type": "code",
   "execution_count": null,
   "id": "c68ab8b5-2f45-4f5a-bc7e-8bb388151d1b",
   "metadata": {},
   "outputs": [],
   "source": [
    "len(data)"
   ]
  },
  {
   "cell_type": "code",
   "execution_count": null,
   "id": "eac38bd2-abb3-4987-85bb-0f69eb0b29d7",
   "metadata": {},
   "outputs": [],
   "source": [
    "data[data['disease'] == 1]['time_to_dg'].min()"
   ]
  },
  {
   "cell_type": "code",
   "execution_count": null,
   "id": "aa51ea60-5a0f-4f4a-8b54-0ae7a76ad4d8",
   "metadata": {},
   "outputs": [],
   "source": [
    "data[data['disease'] == 1]['time_to_dg'].max()"
   ]
  },
  {
   "cell_type": "markdown",
   "id": "54dcee4d-73de-4266-bc1d-b3728ed42386",
   "metadata": {},
   "source": [
    "## Check"
   ]
  },
  {
   "cell_type": "code",
   "execution_count": null,
   "id": "2cc2358e-54c4-495a-8840-2a5357863f60",
   "metadata": {},
   "outputs": [],
   "source": [
    "d = data[data['disease'] == 1]\n",
    "h = data[data['disease'] == 0]"
   ]
  },
  {
   "cell_type": "code",
   "execution_count": null,
   "id": "fe0f367e-6f24-4cda-8f49-bd08f5503f46",
   "metadata": {},
   "outputs": [],
   "source": [
    "# perc of disease datapoints\n",
    "100 * len(d) / len(data)"
   ]
  },
  {
   "cell_type": "code",
   "execution_count": null,
   "id": "1f28283a-f1fd-4745-8cd2-429ab023838d",
   "metadata": {},
   "outputs": [],
   "source": [
    "# n disease patients\n",
    "d_n_pat = len(d['henkilotunnus'].unique())\n",
    "d_n_pat"
   ]
  },
  {
   "cell_type": "code",
   "execution_count": null,
   "id": "30f7673e-6596-4ab0-890f-10c755b08d7d",
   "metadata": {},
   "outputs": [],
   "source": [
    "# n healthy patients\n",
    "h_n_pat = len(h['henkilotunnus'].unique())\n",
    "h_n_pat "
   ]
  },
  {
   "cell_type": "code",
   "execution_count": null,
   "id": "53b90126-a4be-49a8-9cd2-108c4bbfed0c",
   "metadata": {},
   "outputs": [],
   "source": [
    "del d\n",
    "del h"
   ]
  },
  {
   "cell_type": "markdown",
   "id": "c2156a36",
   "metadata": {},
   "source": [
    "## Create deriv and test sets"
   ]
  },
  {
   "cell_type": "code",
   "execution_count": null,
   "id": "78fb63ab",
   "metadata": {},
   "outputs": [],
   "source": [
    "disease_patients = list(data[data['disease'] == 1]['henkilotunnus'].unique())\n",
    "healthy_patients = list(data[data['disease'] == 0]['henkilotunnus'].unique())"
   ]
  },
  {
   "cell_type": "code",
   "execution_count": null,
   "id": "7784e810-a56b-41d6-bf07-f5253b02ed4b",
   "metadata": {},
   "outputs": [],
   "source": [
    "rs=42"
   ]
  },
  {
   "cell_type": "code",
   "execution_count": null,
   "id": "12b4841a",
   "metadata": {},
   "outputs": [],
   "source": [
    "# Divide patient IDs to deriv / test\n",
    "\n",
    "deriv_disease, test_disease = deriv_test_split(disease_patients, shuffle=True, random_state=rs)\n",
    "deriv_healthy, test_healthy = deriv_test_split(healthy_patients, shuffle=True, random_state=rs)"
   ]
  },
  {
   "cell_type": "code",
   "execution_count": null,
   "id": "221df09c",
   "metadata": {},
   "outputs": [],
   "source": [
    "len(deriv_disease), len(test_disease)"
   ]
  },
  {
   "cell_type": "code",
   "execution_count": null,
   "id": "b4d33fa5",
   "metadata": {},
   "outputs": [],
   "source": [
    "len(deriv_healthy), len(test_healthy)"
   ]
  },
  {
   "cell_type": "code",
   "execution_count": null,
   "id": "be90cb25",
   "metadata": {},
   "outputs": [],
   "source": [
    "# Get datapoints based on patient lists\n",
    "deriv_disease_data = data[data['henkilotunnus'].isin(deriv_disease)]\n",
    "test_disease_data = data[data['henkilotunnus'].isin(test_disease)]\n",
    "\n",
    "deriv_healthy_data = data[data['henkilotunnus'].isin(deriv_healthy)]\n",
    "test_healthy_data = data[data['henkilotunnus'].isin(test_healthy)]"
   ]
  },
  {
   "cell_type": "code",
   "execution_count": null,
   "id": "36e9ba35-7997-4f59-9400-df0288d3ddb2",
   "metadata": {},
   "outputs": [],
   "source": [
    "#del data"
   ]
  },
  {
   "cell_type": "code",
   "execution_count": null,
   "id": "8f353fce-fac6-4493-b186-87477ad7e664",
   "metadata": {},
   "outputs": [],
   "source": [
    "deriv_disease_data['age'].median(), test_disease_data['age'].median()"
   ]
  },
  {
   "cell_type": "code",
   "execution_count": null,
   "id": "65d14151-45f3-43ae-b112-6056df4b5ed8",
   "metadata": {},
   "outputs": [],
   "source": [
    "deriv_disease_data['sukupuoli_selite'].value_counts(normalize=True), test_disease_data['sukupuoli_selite'].value_counts(normalize=True)"
   ]
  },
  {
   "cell_type": "code",
   "execution_count": null,
   "id": "934b40d7-2da2-4a85-919d-dd979bba6cc8",
   "metadata": {},
   "outputs": [],
   "source": [
    "deriv_healthy_data['age'].median(), test_healthy_data['age'].median()"
   ]
  },
  {
   "cell_type": "code",
   "execution_count": null,
   "id": "132995d5-7925-4f35-b994-6c8acbe0a66a",
   "metadata": {},
   "outputs": [],
   "source": [
    "deriv_healthy_data['sukupuoli_selite'].value_counts(normalize=True), test_healthy_data['sukupuoli_selite'].value_counts(normalize=True)"
   ]
  },
  {
   "cell_type": "code",
   "execution_count": null,
   "id": "5f875069-3179-4496-9c64-3de25278e3fa",
   "metadata": {},
   "outputs": [],
   "source": [
    "deriv_disease_data['time_to_dg'].median(), test_disease_data['time_to_dg'].median()"
   ]
  },
  {
   "cell_type": "code",
   "execution_count": null,
   "id": "a3845461-6999-4ae1-88b9-4a1e3b5192a7",
   "metadata": {},
   "outputs": [],
   "source": [
    "del data"
   ]
  },
  {
   "cell_type": "code",
   "execution_count": null,
   "id": "4dc3ad7a",
   "metadata": {},
   "outputs": [],
   "source": [
    "# Concatenate disease + healthy sets together\n",
    "deriv_data = pd.concat([deriv_disease_data, deriv_healthy_data], ignore_index=True)\n",
    "test_data = pd.concat([test_disease_data, test_healthy_data], ignore_index=True)"
   ]
  },
  {
   "cell_type": "code",
   "execution_count": null,
   "id": "c393215f-a31e-49e2-97f3-98ccebf00b81",
   "metadata": {},
   "outputs": [],
   "source": [
    "deriv_data"
   ]
  },
  {
   "cell_type": "code",
   "execution_count": null,
   "id": "b9a12c73-1269-4fa0-93ea-c323af3a1980",
   "metadata": {},
   "outputs": [],
   "source": [
    "del deriv_disease_data\n",
    "del test_disease_data\n",
    "del deriv_healthy_data\n",
    "del test_healthy_data"
   ]
  },
  {
   "cell_type": "code",
   "execution_count": null,
   "id": "60e3d77c",
   "metadata": {},
   "outputs": [],
   "source": [
    "# Censoring 'disease' == 0 for XGBoost\n",
    "deriv_data.loc[deriv_data['disease'] == 0, 'time_to_dg'] *= -1\n",
    "test_data.loc[test_data['disease'] == 0, 'time_to_dg'] *= -1"
   ]
  },
  {
   "cell_type": "code",
   "execution_count": null,
   "id": "6a35cb16",
   "metadata": {},
   "outputs": [],
   "source": [
    "deriv_data[deriv_data['disease'] == 1]['age'].median(), test_data[test_data['disease'] == 1]['age'].median()"
   ]
  },
  {
   "cell_type": "code",
   "execution_count": null,
   "id": "30005488-5b4d-45c2-abca-25c52f536c9b",
   "metadata": {},
   "outputs": [],
   "source": [
    "deriv_data[deriv_data['disease'] == 0]['age'].median(), test_data[test_data['disease'] == 0]['age'].median()"
   ]
  },
  {
   "cell_type": "code",
   "execution_count": null,
   "id": "9c01cc05-c51c-410b-b14b-f6f6cd31509a",
   "metadata": {},
   "outputs": [],
   "source": [
    "deriv_data[deriv_data['disease'] == 1]['sukupuoli_selite'].mean(), test_data[test_data['disease'] == 1]['sukupuoli_selite'].mean()"
   ]
  },
  {
   "cell_type": "code",
   "execution_count": null,
   "id": "39203c52-8328-47cd-a189-29c1c3acb396",
   "metadata": {},
   "outputs": [],
   "source": [
    "deriv_data[deriv_data['disease'] == 0]['sukupuoli_selite'].mean(), test_data[test_data['disease'] == 0]['sukupuoli_selite'].mean()"
   ]
  },
  {
   "cell_type": "code",
   "execution_count": null,
   "id": "b9bf4fc2",
   "metadata": {},
   "outputs": [],
   "source": [
    "deriv_ht = list(deriv_data['henkilotunnus'].unique())"
   ]
  },
  {
   "cell_type": "code",
   "execution_count": null,
   "id": "7d1ce485",
   "metadata": {},
   "outputs": [],
   "source": [
    "test_ht = list(test_data['henkilotunnus'].unique())"
   ]
  },
  {
   "cell_type": "code",
   "execution_count": null,
   "id": "795198c5",
   "metadata": {},
   "outputs": [],
   "source": [
    "def check_common_elements(list1, list2):\n",
    "    # Convert lists to sets for faster membership testing\n",
    "    set1 = set(list1)\n",
    "    set2 = set(list2)\n",
    "    \n",
    "    # Check if there is any common element\n",
    "    common_elements = set1.intersection(set2)\n",
    "    \n",
    "    return len(common_elements) > 0\n"
   ]
  },
  {
   "cell_type": "code",
   "execution_count": null,
   "id": "45b22cac",
   "metadata": {},
   "outputs": [],
   "source": [
    "check_common_elements(deriv_ht, test_ht)"
   ]
  },
  {
   "cell_type": "markdown",
   "id": "deb57ce2-7bf4-4e6a-a573-a2e3f55d8034",
   "metadata": {},
   "source": [
    "## Append hard positives to deriv data"
   ]
  },
  {
   "cell_type": "code",
   "execution_count": null,
   "id": "76ff1453-b1e8-43e8-affb-89ae267e66e9",
   "metadata": {},
   "outputs": [],
   "source": [
    "deriv_data"
   ]
  },
  {
   "cell_type": "code",
   "execution_count": null,
   "id": "b6932517-c834-4c1d-9342-164f98354cba",
   "metadata": {},
   "outputs": [],
   "source": [
    "deriv_data['hp'] = 0"
   ]
  },
  {
   "cell_type": "code",
   "execution_count": null,
   "id": "49ef6336-f021-474b-8f62-9059ea7cd950",
   "metadata": {},
   "outputs": [],
   "source": [
    "deriv_data = pd.concat([hard_positives, deriv_data])"
   ]
  },
  {
   "cell_type": "code",
   "execution_count": null,
   "id": "6ab3fe71-6699-44e3-8d86-85515ad0d81c",
   "metadata": {},
   "outputs": [],
   "source": [
    "print('\\nSanity check: Is there any test data in derivation set')\n",
    "deriv_ht = list(deriv_data['henkilotunnus'].unique())\n",
    "test_ht = list(test_data['henkilotunnus'].unique())\n",
    "test_in_deriv = np.intersect1d(test_ht, deriv_ht).size > 0\n",
    "\n",
    "test_in_deriv"
   ]
  },
  {
   "cell_type": "code",
   "execution_count": null,
   "id": "1873bc2f-c65d-417b-a8d3-c14985a688a7",
   "metadata": {},
   "outputs": [],
   "source": [
    "len(deriv_data[deriv_data['hp'] == 1])"
   ]
  },
  {
   "cell_type": "code",
   "execution_count": null,
   "id": "14fc8a81-840e-4d02-ae8b-2edd248012ff",
   "metadata": {},
   "outputs": [],
   "source": [
    "# Remove hard positive datapoints from those patients whose data is found in test data\n",
    "deriv_data = deriv_data[~deriv_data['henkilotunnus'].isin(test_data['henkilotunnus'])]"
   ]
  },
  {
   "cell_type": "code",
   "execution_count": null,
   "id": "35261812-c699-44f5-b20f-358406354c84",
   "metadata": {},
   "outputs": [],
   "source": [
    "len(deriv_data[deriv_data['hp'] == 1])"
   ]
  },
  {
   "cell_type": "code",
   "execution_count": null,
   "id": "63ce6fcf-94e5-40e6-ac57-f6a9c915a0a3",
   "metadata": {},
   "outputs": [],
   "source": [
    "print('\\nSanity check: Is there any test data in derivation set')\n",
    "deriv_ht = list(deriv_data['henkilotunnus'].unique())\n",
    "test_ht = list(test_data['henkilotunnus'].unique())\n",
    "test_in_deriv = np.intersect1d(test_ht, deriv_ht).size > 0\n",
    "\n",
    "test_in_deriv"
   ]
  },
  {
   "cell_type": "code",
   "execution_count": null,
   "id": "b756d2e9-560f-4887-91e2-899055881824",
   "metadata": {},
   "outputs": [],
   "source": [
    "# pt counts after hp\n",
    "len(deriv_disease), len(test_disease)"
   ]
  },
  {
   "cell_type": "markdown",
   "id": "24fc55fa",
   "metadata": {},
   "source": [
    "## Save deriv and test sets"
   ]
  },
  {
   "cell_type": "code",
   "execution_count": null,
   "id": "47b2f5ff",
   "metadata": {},
   "outputs": [],
   "source": [
    "deriv_data = deriv_data.reset_index(drop=True)"
   ]
  },
  {
   "cell_type": "code",
   "execution_count": null,
   "id": "a92cf094",
   "metadata": {},
   "outputs": [],
   "source": [
    "test_data = test_data.reset_index(drop=True)"
   ]
  },
  {
   "cell_type": "code",
   "execution_count": null,
   "id": "6677f637",
   "metadata": {},
   "outputs": [],
   "source": [
    "len(deriv_data) + len(test_data)"
   ]
  },
  {
   "cell_type": "code",
   "execution_count": null,
   "id": "51417047-bf50-4b8d-aa8c-914a6b8ce5bf",
   "metadata": {},
   "outputs": [],
   "source": [
    "if disease == 'any_MN':\n",
    "    # Save test data with disease labels\n",
    "    test_data.to_csv(my_path + '/data/modelling/' + disease + '_test_data_disease_labels.csv', index=False)"
   ]
  },
  {
   "cell_type": "markdown",
   "id": "4dec80da-7e6e-45db-8b1a-ef47653bfe33",
   "metadata": {},
   "source": [
    "### Drop \"type\" column before modelling (any_MN)"
   ]
  },
  {
   "cell_type": "code",
   "execution_count": null,
   "id": "981a8016-f907-4ac9-98f0-9ccd5909f4e3",
   "metadata": {},
   "outputs": [],
   "source": [
    "if disease == 'any_MN':\n",
    "    deriv_data = deriv_data.drop(columns=['type'])\n",
    "    test_data = test_data.drop(columns=['type'])"
   ]
  },
  {
   "cell_type": "code",
   "execution_count": null,
   "id": "7fd24ad2-3341-4a32-b823-063f5f06bc5e",
   "metadata": {},
   "outputs": [],
   "source": [
    "test_data"
   ]
  },
  {
   "cell_type": "code",
   "execution_count": null,
   "id": "8ebb7cea-cd87-490e-9da1-4d2fe5a22abe",
   "metadata": {},
   "outputs": [],
   "source": [
    "deriv_data"
   ]
  },
  {
   "cell_type": "markdown",
   "id": "990a854f-765e-44a7-9ff8-06806c446289",
   "metadata": {},
   "source": [
    "### Save"
   ]
  },
  {
   "cell_type": "code",
   "execution_count": null,
   "id": "42f80e6d",
   "metadata": {},
   "outputs": [],
   "source": [
    "deriv_data.to_csv(my_path + '/data/modelling/' + disease + '_derivation_data.csv', index=False)"
   ]
  },
  {
   "cell_type": "code",
   "execution_count": null,
   "id": "2db3015c-e695-4cf2-9ec7-ca13b69c548b",
   "metadata": {},
   "outputs": [],
   "source": [
    "del deriv_data"
   ]
  },
  {
   "cell_type": "code",
   "execution_count": null,
   "id": "f785efe3",
   "metadata": {},
   "outputs": [],
   "source": [
    "test_data.to_csv(my_path + '/data/modelling/' + disease + '_test_data.csv', index=False)"
   ]
  },
  {
   "cell_type": "code",
   "execution_count": null,
   "id": "c63e2974",
   "metadata": {},
   "outputs": [],
   "source": [
    "#del test_data"
   ]
  },
  {
   "cell_type": "code",
   "execution_count": null,
   "id": "0dc06263",
   "metadata": {},
   "outputs": [],
   "source": []
  },
  {
   "cell_type": "code",
   "execution_count": null,
   "id": "bcb7a082",
   "metadata": {},
   "outputs": [],
   "source": []
  },
  {
   "cell_type": "code",
   "execution_count": null,
   "id": "aafe3f91-ace4-4b2c-becb-b30f3f7ef39c",
   "metadata": {},
   "outputs": [],
   "source": []
  },
  {
   "cell_type": "code",
   "execution_count": null,
   "id": "3a483cb2-19b8-4410-895e-0665aa55cc1c",
   "metadata": {},
   "outputs": [],
   "source": []
  }
 ],
 "metadata": {
  "kernelspec": {
   "display_name": "Python 3 (ipykernel)",
   "language": "python",
   "name": "python3"
  },
  "language_info": {
   "codemirror_mode": {
    "name": "ipython",
    "version": 3
   },
   "file_extension": ".py",
   "mimetype": "text/x-python",
   "name": "python",
   "nbconvert_exporter": "python",
   "pygments_lexer": "ipython3",
   "version": "3.8.18"
  }
 },
 "nbformat": 4,
 "nbformat_minor": 5
}

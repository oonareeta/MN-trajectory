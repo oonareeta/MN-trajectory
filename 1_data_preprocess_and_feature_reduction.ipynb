{
 "cells": [
  {
   "cell_type": "code",
   "execution_count": null,
   "id": "396f4dbd-4537-4ae1-b609-28b751ffe4f0",
   "metadata": {},
   "outputs": [],
   "source": [
    "import numpy as np\n",
    "import pandas as pd\n",
    "import matplotlib.pyplot as plt\n",
    "import seaborn as sns\n",
    "import math\n",
    "import re\n",
    "import warnings\n",
    "import sklearn\n",
    "import json\n",
    "import scipy\n",
    "from scipy.stats import shapiro, ttest_ind, mannwhitneyu\n",
    "\n",
    "warnings.filterwarnings(\"ignore\")"
   ]
  },
  {
   "cell_type": "code",
   "execution_count": null,
   "id": "2dc036fa-9d5f-4ebc-bceb-171bac3a4b03",
   "metadata": {},
   "outputs": [],
   "source": [
    "def collinear_features(x, threshold):\n",
    "    # Find correlating features in a dataframe\n",
    "    \n",
    "    # Store correlating pairs into a list\n",
    "    correlating_pairs = []\n",
    "\n",
    "    # Calculate the correlation matrix\n",
    "    corr_matrix = x.corr()\n",
    "    iters = range(len(corr_matrix.columns) - 1)\n",
    "    drop_cols = []\n",
    "\n",
    "    # Iterate through the correlation matrix and compare correlations\n",
    "    for i in iters:\n",
    "        for j in range(i+1):\n",
    "            item = corr_matrix.iloc[j:(j+1), (i+1):(i+2)]\n",
    "            col = item.columns\n",
    "            row = item.index\n",
    "            val = abs(item.values)\n",
    "\n",
    "            # If correlation exceeds the threshold\n",
    "            if val >= threshold:\n",
    "                # Print the correlated features and the correlation value\n",
    "                print(col.values[0], \"|\", row.values[0], \"|\", round(val[0][0], 2))\n",
    "                correlating_pairs.append((col.values[0], row.values[0]))\n",
    "                \n",
    "    return correlating_pairs\n",
    "    "
   ]
  },
  {
   "cell_type": "code",
   "execution_count": null,
   "id": "3f1cfd88-f718-4cec-9884-540d2c5f38c7",
   "metadata": {},
   "outputs": [],
   "source": [
    "my_path = '~/mounts/research/husdatalake/disease/scripts/Preleukemia/oona_new'"
   ]
  },
  {
   "cell_type": "code",
   "execution_count": null,
   "id": "1bc4ddf3-a9a7-4de7-b477-3ad2681274d7",
   "metadata": {},
   "outputs": [],
   "source": [
    "data_path = '~/mounts/research/husdatalake/disease/processed_data/Preleukemia/'"
   ]
  },
  {
   "cell_type": "code",
   "execution_count": null,
   "id": "937b862d-9f25-4dbc-9363-fef34808a7ad",
   "metadata": {},
   "outputs": [],
   "source": [
    "disease = 'MDS'"
   ]
  },
  {
   "cell_type": "code",
   "execution_count": null,
   "id": "f50632b5-2fa1-4028-aa1e-641f27e2d345",
   "metadata": {},
   "outputs": [],
   "source": [
    "if disease == 'de_novo_AML':\n",
    "    dis = 'de novo AML'\n",
    "elif disease == 'primary_MF':\n",
    "    dis = 'MF'\n",
    "else:\n",
    "    dis = disease"
   ]
  },
  {
   "cell_type": "code",
   "execution_count": null,
   "id": "21e41455-d80c-403b-867f-48d796734789",
   "metadata": {},
   "outputs": [],
   "source": [
    "# Read univariate model results\n",
    "with open('univariate_models/' + disease + '_univariate_pvalues.json', 'r') as file:\n",
    "    univariate_results = json.load(file)"
   ]
  },
  {
   "cell_type": "code",
   "execution_count": null,
   "id": "0456f140-a139-4ed7-a82a-f98737a6bb64",
   "metadata": {
    "scrolled": true
   },
   "outputs": [],
   "source": [
    "univariate_results"
   ]
  },
  {
   "cell_type": "code",
   "execution_count": null,
   "id": "67fb7733-00dc-41d2-88f8-41b34da135fc",
   "metadata": {},
   "outputs": [],
   "source": [
    "len(univariate_results)"
   ]
  },
  {
   "cell_type": "markdown",
   "id": "386c4180-a5f6-492f-8ade-7c91d2075c9c",
   "metadata": {},
   "source": [
    "## Load data\n",
    "\n",
    "Cannot load full data, kernel dies. Read 100k rows "
   ]
  },
  {
   "cell_type": "code",
   "execution_count": null,
   "id": "7b658565-b5cb-4659-afe6-d3b34c529c33",
   "metadata": {},
   "outputs": [],
   "source": [
    "data_sub = pd.read_csv(data_path + 'lagged_data_' + dis + '3.csv', engine='c', nrows=100000, low_memory=False)"
   ]
  },
  {
   "cell_type": "code",
   "execution_count": null,
   "id": "e5b854b3-b1ff-43d4-83c9-4440974201e4",
   "metadata": {},
   "outputs": [],
   "source": [
    "data_sub = data_sub.loc[:, ~data_sub.columns.str.contains('l_metam|l_myelos|l_blast|pt_gf|crea|p_tt|ferrit|e_retic|event_1y', case=False)]"
   ]
  },
  {
   "cell_type": "code",
   "execution_count": null,
   "id": "604ddf98-5bb1-41b5-ab44-d0a9c31c98a6",
   "metadata": {},
   "outputs": [],
   "source": [
    "data_sub"
   ]
  },
  {
   "cell_type": "markdown",
   "id": "2d3dba11-1e49-4cd6-a7bd-0e1a0d8b7a11",
   "metadata": {},
   "source": [
    "## Find collinear features"
   ]
  },
  {
   "cell_type": "code",
   "execution_count": null,
   "id": "e094aeb1-5825-4a79-801f-eef95d5e8788",
   "metadata": {},
   "outputs": [],
   "source": [
    "data_sub = data_sub[data_sub['sukupuoli_selite'].isin(['Nainen', 'Mies'])]"
   ]
  },
  {
   "cell_type": "code",
   "execution_count": null,
   "id": "53c7636a-3674-4c39-ad00-9ef08c1b2e61",
   "metadata": {},
   "outputs": [],
   "source": [
    "data_sub['sukupuoli_selite'] = data_sub['sukupuoli_selite'].replace({'Nainen' : 0, 'Mies' : 1})"
   ]
  },
  {
   "cell_type": "code",
   "execution_count": null,
   "id": "4e3bd6cb-f858-4be5-89bd-cd04b800895e",
   "metadata": {},
   "outputs": [],
   "source": [
    "collinearity_threshold = 0.95"
   ]
  },
  {
   "cell_type": "code",
   "execution_count": null,
   "id": "e38afa2a-4c77-49be-a4e2-224153ee556e",
   "metadata": {
    "scrolled": true
   },
   "outputs": [],
   "source": [
    "correlating_pairs = collinear_features(data_sub.drop(columns=['henkilotunnus', 'time_to_dg','disease']), threshold=collinearity_threshold)"
   ]
  },
  {
   "cell_type": "code",
   "execution_count": null,
   "id": "0fb55fa5-70bf-405c-be8b-8b0bd3306654",
   "metadata": {},
   "outputs": [],
   "source": [
    "len(correlating_pairs)"
   ]
  },
  {
   "cell_type": "markdown",
   "id": "8a524c20-dd67-4215-bfd6-de7d538d8f3e",
   "metadata": {},
   "source": [
    "## Remove collinear features based on univariate models\n",
    "\n",
    "Remove one of collinear variables based on the univariate model p-values. The variable which has a lower p-value is considered more important and thus kept"
   ]
  },
  {
   "cell_type": "code",
   "execution_count": null,
   "id": "0556c95f-bdb2-4489-87dd-6e318e222931",
   "metadata": {
    "scrolled": true
   },
   "outputs": [],
   "source": [
    "correlating_pairs"
   ]
  },
  {
   "cell_type": "code",
   "execution_count": null,
   "id": "b1bf24bb-e824-4a07-a64b-4591d9eff705",
   "metadata": {
    "scrolled": true
   },
   "outputs": [],
   "source": [
    "p_threshold = 0.001\n",
    "\n",
    "print('\\nREMOVING COLLINEAR VARIABLES BASED ON UNIVARIATE MODELS')\n",
    "to_remove = []\n",
    "\n",
    "for pair in correlating_pairs:\n",
    "\n",
    "    print('')\n",
    "    print(pair)\n",
    "    var1 = pair[0]\n",
    "    var2 = pair[1]\n",
    "    \n",
    "    p1 = univariate_results[var1]\n",
    "    p2 = univariate_results[var1]\n",
    "    \n",
    "    print(var1, p1)\n",
    "    print(var2, p2)\n",
    "    \n",
    "    if p1 > p2:\n",
    "        #if p1 > p_threshold: # Only remove if p > p_threshold\n",
    "            print('removing', var1)\n",
    "            if var1 not in to_remove:\n",
    "                to_remove.append(var1)\n",
    "    else:\n",
    "        #if p2 > p_threshold:\n",
    "            print('removing', var2)\n",
    "            if var2 not in to_remove:\n",
    "                to_remove.append(var2)\n",
    "    "
   ]
  },
  {
   "cell_type": "code",
   "execution_count": null,
   "id": "28cd7c6a-5333-44a2-a12f-859681b335ad",
   "metadata": {},
   "outputs": [],
   "source": [
    "to_remove"
   ]
  },
  {
   "cell_type": "code",
   "execution_count": null,
   "id": "b528a017-4338-42c6-b6a2-ca91b7ae4b0e",
   "metadata": {},
   "outputs": [],
   "source": [
    "len(to_remove)"
   ]
  },
  {
   "cell_type": "code",
   "execution_count": null,
   "id": "b9662f51-4d8f-4caa-be09-6e8bfd8ed872",
   "metadata": {},
   "outputs": [],
   "source": [
    "# Force hemoglobin into the models\n",
    "to_remove.remove('b_hb_g_l_tulos_norm')"
   ]
  },
  {
   "cell_type": "code",
   "execution_count": null,
   "id": "e16feac5-c91b-4abc-8885-d5536e98f557",
   "metadata": {},
   "outputs": [],
   "source": [
    "data_sub = data_sub.drop(columns=to_remove)"
   ]
  },
  {
   "cell_type": "code",
   "execution_count": null,
   "id": "008ffd84-c189-479e-b251-f4bfbc1ebd83",
   "metadata": {},
   "outputs": [],
   "source": [
    "data_sub"
   ]
  },
  {
   "cell_type": "code",
   "execution_count": null,
   "id": "44cef539-883f-4bc3-817c-8e574fa4fccd",
   "metadata": {},
   "outputs": [],
   "source": [
    "features = data_sub.drop(columns=['henkilotunnus', 'time_to_dg', 'disease']).columns.to_list()"
   ]
  },
  {
   "cell_type": "code",
   "execution_count": null,
   "id": "39591396-6f62-4cd0-8535-a1971d426e73",
   "metadata": {},
   "outputs": [],
   "source": [
    "features"
   ]
  },
  {
   "cell_type": "markdown",
   "id": "f064e696-c413-4e12-a755-a890f5f5d769",
   "metadata": {},
   "source": [
    "## Read full data for further processing (only selected features)"
   ]
  },
  {
   "cell_type": "code",
   "execution_count": null,
   "id": "76a7cf92-6879-4f47-9f18-fd7a06dcea74",
   "metadata": {},
   "outputs": [],
   "source": [
    "disease='MF'"
   ]
  },
  {
   "cell_type": "code",
   "execution_count": null,
   "id": "5cfd379c-d913-4523-9d0e-1edf356fd832",
   "metadata": {},
   "outputs": [],
   "source": [
    "if disease == 'de_novo_AML':\n",
    "    dis = 'de novo AML'\n",
    "elif disease == 'primary_MF':\n",
    "    dis = 'MF'\n",
    "else:\n",
    "    dis = disease"
   ]
  },
  {
   "cell_type": "code",
   "execution_count": null,
   "id": "2255370d-ec44-4600-9f0e-d62a1fd6cee2",
   "metadata": {},
   "outputs": [],
   "source": [
    "data = pd.read_csv(data_path + 'lagged_data_' + dis + '3.csv', usecols=['henkilotunnus', 'time_to_dg', 'disease']+features, engine='c', low_memory=False)"
   ]
  },
  {
   "cell_type": "code",
   "execution_count": null,
   "id": "0770edba-3895-46dc-8fe9-06e39dac2ded",
   "metadata": {},
   "outputs": [],
   "source": [
    "data = data[data['sukupuoli_selite'].isin(['Nainen', 'Mies'])]"
   ]
  },
  {
   "cell_type": "code",
   "execution_count": null,
   "id": "48a8e8eb-1129-496e-a333-e81eb987f47e",
   "metadata": {},
   "outputs": [],
   "source": [
    "data['sukupuoli_selite'] = data['sukupuoli_selite'].replace({'Nainen' : 0, 'Mies' : 1})"
   ]
  },
  {
   "cell_type": "code",
   "execution_count": null,
   "id": "12c1d696-7e57-45d8-9a2f-222e119e687e",
   "metadata": {},
   "outputs": [],
   "source": [
    "# Drop underaged\n",
    "data = data[~((data['disease'] == 0) & (data['age'] < 18))]"
   ]
  },
  {
   "cell_type": "code",
   "execution_count": null,
   "id": "90eaf45a-a1d6-4caa-83d9-e4e4f6e64eec",
   "metadata": {},
   "outputs": [],
   "source": [
    "data = data[~((data['disease'] == 1) & (data['age'] < 18))]"
   ]
  },
  {
   "cell_type": "code",
   "execution_count": null,
   "id": "d024229d-d952-48aa-b829-015cb3a51095",
   "metadata": {},
   "outputs": [],
   "source": [
    "data"
   ]
  },
  {
   "cell_type": "code",
   "execution_count": null,
   "id": "ca055886-f7ee-4cd8-893c-e5a470deb848",
   "metadata": {},
   "outputs": [],
   "source": [
    "healthy_df = data[data['disease'] == 0]\n",
    "disease_df = data[data['disease'] == 1]"
   ]
  },
  {
   "cell_type": "code",
   "execution_count": null,
   "id": "0bc576b9-910d-49ba-9101-9b29ccb883ef",
   "metadata": {},
   "outputs": [],
   "source": [
    "del data"
   ]
  },
  {
   "cell_type": "code",
   "execution_count": null,
   "id": "ab63cf66-972d-44fe-9e05-1f02de39e935",
   "metadata": {},
   "outputs": [],
   "source": [
    "lab_features = healthy_df.columns[7:].to_list()"
   ]
  },
  {
   "cell_type": "code",
   "execution_count": null,
   "id": "de95ce9c-1180-4d5b-a944-eeaf0dbad9fd",
   "metadata": {},
   "outputs": [],
   "source": [
    "lab_features"
   ]
  },
  {
   "cell_type": "markdown",
   "id": "ba18518f-8ca4-46b6-84e5-2e04c54c7fb5",
   "metadata": {},
   "source": [
    "## 3. Trimming the top and bottom 0.1% of values per feature (healthy patients only) to remove outliers\n",
    "\n",
    "Setting extreme column values to 0"
   ]
  },
  {
   "cell_type": "code",
   "execution_count": null,
   "id": "ce10e429",
   "metadata": {},
   "outputs": [],
   "source": [
    "def trim_extremes(df, features, lower_q=0.001, upper_q=0.999):\n",
    "    clean_df = df.copy()\n",
    "    for col in features:\n",
    "        print(col)\n",
    "        low = df[col].quantile(lower_q)\n",
    "        high = df[col].quantile(upper_q)\n",
    "        \n",
    "        # Replace values outside [low, high] with 0\n",
    "        clean_df[col] = clean_df[col].apply(lambda x: x if low <= x <= high else 0)\n",
    "    \n",
    "    return clean_df"
   ]
  },
  {
   "cell_type": "code",
   "execution_count": null,
   "id": "31a0bd74-63a3-4fa7-8230-0f3b440f0357",
   "metadata": {},
   "outputs": [],
   "source": [
    "len(healthy_df)"
   ]
  },
  {
   "cell_type": "code",
   "execution_count": null,
   "id": "6729f423-892c-4863-93a1-f7e942b9e29e",
   "metadata": {
    "scrolled": true
   },
   "outputs": [],
   "source": [
    "healthy_df_clean = trim_extremes(healthy_df, lab_features, lower_q=0.001, upper_q=0.999)"
   ]
  },
  {
   "cell_type": "code",
   "execution_count": null,
   "id": "4640cf25-892f-4278-8263-bde2bc48a39d",
   "metadata": {},
   "outputs": [],
   "source": [
    "len(healthy_df_clean)"
   ]
  },
  {
   "cell_type": "markdown",
   "id": "f6586e51-a32f-47c8-ae20-b4a7f596d461",
   "metadata": {},
   "source": [
    "## Plot"
   ]
  },
  {
   "cell_type": "code",
   "execution_count": null,
   "id": "bfc4804d-cefb-400d-b2ee-dd6f81afb87d",
   "metadata": {},
   "outputs": [],
   "source": [
    "data = pd.concat([healthy_df_clean, disease_df], axis=0)"
   ]
  },
  {
   "cell_type": "code",
   "execution_count": null,
   "id": "e870b1a5-8434-45f8-9385-5358efa7f1e5",
   "metadata": {},
   "outputs": [],
   "source": [
    "del healthy_df_clean\n",
    "del healthy_df\n",
    "del disease_df\n"
   ]
  },
  {
   "cell_type": "code",
   "execution_count": null,
   "id": "9d39b840-9216-4f79-8182-d8fe5ee34f85",
   "metadata": {},
   "outputs": [],
   "source": [
    "## Save\n",
    "data.to_csv(my_path + '/data/modelling/' + disease + '_modelling_data_reduced.csv', index=False)"
   ]
  },
  {
   "cell_type": "code",
   "execution_count": null,
   "id": "515cf647-9784-4ee4-9239-6bde923e079c",
   "metadata": {},
   "outputs": [],
   "source": [
    "fig = plt.figure(figsize=(4, 4))\n",
    "sns.boxplot(data=data, x='age', hue='disease', showfliers=True)\n",
    "#plt.axvline(x=0, color='r', linestyle='--')\n",
    "plt.show()\n",
    "plt.close()"
   ]
  },
  {
   "cell_type": "code",
   "execution_count": null,
   "id": "09469a20-0c26-46f3-9f0b-2a14dbce120d",
   "metadata": {},
   "outputs": [],
   "source": [
    "data[data['disease'] == 0]['sukupuoli_selite'].value_counts(normalize=True)"
   ]
  },
  {
   "cell_type": "code",
   "execution_count": null,
   "id": "ad2fbd1f-6597-422d-93b1-7d67cce0c977",
   "metadata": {},
   "outputs": [],
   "source": [
    "data[data['disease'] == 1]['sukupuoli_selite'].value_counts(normalize=True)"
   ]
  },
  {
   "cell_type": "markdown",
   "id": "9d6e2fe7-1841-4f5a-91fe-439d2bccc73d",
   "metadata": {},
   "source": [
    "## Visualize latest measurements (norm columns)"
   ]
  },
  {
   "cell_type": "code",
   "execution_count": null,
   "id": "6334811e-c851-403d-ba44-47540c2beb7b",
   "metadata": {},
   "outputs": [],
   "source": [
    "norm_cols = [col for col in data.columns if 'norm' in col]"
   ]
  },
  {
   "cell_type": "code",
   "execution_count": null,
   "id": "5423e931-5aa6-4a7f-97fd-cec430a6f9a2",
   "metadata": {
    "scrolled": true
   },
   "outputs": [],
   "source": [
    "for lab in norm_cols:\n",
    "    fig = plt.figure(figsize=(4, 4))\n",
    "    sns.boxplot(data=data, x=lab, hue='disease')\n",
    "    plt.axvline(x=0, color='r', linestyle='--')\n",
    "    plt.show()\n",
    "    plt.close()"
   ]
  },
  {
   "cell_type": "code",
   "execution_count": null,
   "id": "1a77704f-d8da-474e-aaf6-bfdde942bfa1",
   "metadata": {},
   "outputs": [],
   "source": []
  }
 ],
 "metadata": {
  "kernelspec": {
   "display_name": "Python 3 (ipykernel)",
   "language": "python",
   "name": "python3"
  },
  "language_info": {
   "codemirror_mode": {
    "name": "ipython",
    "version": 3
   },
   "file_extension": ".py",
   "mimetype": "text/x-python",
   "name": "python",
   "nbconvert_exporter": "python",
   "pygments_lexer": "ipython3",
   "version": "3.8.18"
  }
 },
 "nbformat": 4,
 "nbformat_minor": 5
}

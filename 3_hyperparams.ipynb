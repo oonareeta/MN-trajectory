{
 "cells": [
  {
   "cell_type": "code",
   "execution_count": null,
   "id": "1a3bc4ee",
   "metadata": {},
   "outputs": [],
   "source": [
    "import numpy as np\n",
    "import pandas as pd\n",
    "import matplotlib.pyplot as plt\n",
    "import seaborn as sns\n",
    "import math\n",
    "import warnings\n",
    "import sklearn\n",
    "import random\n",
    "import xgboost as xgb\n",
    "from sklearn.model_selection import train_test_split\n",
    "from sklearn.model_selection import ParameterGrid\n",
    "from sklearn.metrics import roc_curve, auc, f1_score, accuracy_score\n",
    "from sklearn.metrics import precision_recall_curve, average_precision_score\n",
    "from sksurv.metrics import cumulative_dynamic_auc, concordance_index_censored\n",
    "import ast\n",
    "\n",
    "warnings.filterwarnings(\"ignore\")"
   ]
  },
  {
   "cell_type": "code",
   "execution_count": null,
   "id": "583bd82b",
   "metadata": {},
   "outputs": [],
   "source": [
    "def train_val_split(deriv_data, shuffle=True):\n",
    "    # Divide patients to train / validation / groups\n",
    "    \n",
    "    patient_list = deriv_data['henkilotunnus'].unique()\n",
    "    \n",
    "    if shuffle == True:\n",
    "        random.shuffle(patient_list)\n",
    "    \n",
    "    # Calculate the number of items in each sublist\n",
    "    total_items = len(patient_list)\n",
    "    train_size = int(total_items * 0.85)\n",
    "    val_size = total_items - train_size  # To ensure all items are included\n",
    "\n",
    "    # Divide the list into sublists\n",
    "    train_list = patient_list[:train_size]\n",
    "    val_list = patient_list[train_size:]\n",
    "    \n",
    "    train_data = deriv_data[deriv_data['henkilotunnus'].isin(train_list)].reset_index(drop=True)\n",
    "    val_data = deriv_data[deriv_data['henkilotunnus'].isin(val_list)].reset_index(drop=True)\n",
    "\n",
    "    return train_data, val_data"
   ]
  },
  {
   "cell_type": "code",
   "execution_count": null,
   "id": "db28cb3f",
   "metadata": {},
   "outputs": [],
   "source": [
    "my_path = '~/mounts/research/husdatalake/disease/scripts/Preleukemia/oona_git'"
   ]
  },
  {
   "cell_type": "code",
   "execution_count": null,
   "id": "ed836071",
   "metadata": {},
   "outputs": [],
   "source": [
    "disease = 'MDS'"
   ]
  },
  {
   "cell_type": "code",
   "execution_count": null,
   "id": "4ea215c9",
   "metadata": {},
   "outputs": [],
   "source": [
    "deriv_data = pd.read_csv(my_path + '/data/modelling/' + disease + '_derivation_data.csv')"
   ]
  },
  {
   "cell_type": "code",
   "execution_count": null,
   "id": "21a171b1",
   "metadata": {},
   "outputs": [],
   "source": [
    "features = pd.read_csv(my_path + '/optimization/feature_selection/' + disease + '_features.csv')['features'].to_list()"
   ]
  },
  {
   "cell_type": "code",
   "execution_count": null,
   "id": "802be715",
   "metadata": {},
   "outputs": [],
   "source": [
    "deriv_data = deriv_data[['henkilotunnus','time_to_dg','disease'] + features]"
   ]
  },
  {
   "cell_type": "markdown",
   "id": "8d23559f",
   "metadata": {},
   "source": [
    "### Hyperparameter optimization with cross validation"
   ]
  },
  {
   "cell_type": "code",
   "execution_count": null,
   "id": "0977de1a",
   "metadata": {},
   "outputs": [],
   "source": [
    "cv = 10"
   ]
  },
  {
   "cell_type": "code",
   "execution_count": null,
   "id": "0763cc91",
   "metadata": {},
   "outputs": [],
   "source": [
    "# Hyperparametes to evaluate\n",
    "param_grid = {\n",
    "    'objective': ['survival:cox'],\n",
    "    'eval_metric': ['cox-nloglik'],\n",
    "    'learning_rate': [0.025, 0.05, 0.075],\n",
    "    'max_depth': [5,6],\n",
    "    'subsample': [0.8, 1],\n",
    "    'alpha': [0.5, 1],\n",
    "    'lambda': [5,10]\n",
    "}\n",
    "\n",
    "nrounds = 1000\n",
    "early_stop = 10"
   ]
  },
  {
   "cell_type": "code",
   "execution_count": null,
   "id": "52f83512",
   "metadata": {},
   "outputs": [],
   "source": [
    "parameters_grid = ParameterGrid(param_grid)"
   ]
  },
  {
   "cell_type": "code",
   "execution_count": null,
   "id": "e71a5ebb",
   "metadata": {},
   "outputs": [],
   "source": [
    "len(parameters_grid)"
   ]
  },
  {
   "cell_type": "code",
   "execution_count": null,
   "id": "c71ad563",
   "metadata": {},
   "outputs": [],
   "source": [
    "result_df = pd.DataFrame(columns=['params', 'c_index_mean', 'c_index_std', 'AUC_mean', 'AUC_std', 'AUCPR_mean', 'AUCPR_std'])"
   ]
  },
  {
   "cell_type": "code",
   "execution_count": null,
   "id": "eb81d4a9",
   "metadata": {},
   "outputs": [],
   "source": [
    "for params in parameters_grid:\n",
    "    \n",
    "    print(f'\\nTRAINING MODEL WITH PARAMETERS:\\n {params} \\n{cv}-FOLD CROSS VALIDATION')\n",
    "    \n",
    "    c_indices = []\n",
    "    AUCs = []\n",
    "    AUCPRs = []\n",
    "\n",
    "    for i in range(cv):\n",
    "\n",
    "        print('\\n\\tCV loop no: ', i+1)\n",
    "\n",
    "        train_data, validation_data = train_val_split(deriv_data)\n",
    "\n",
    "        # Separate features and target variables\n",
    "        x_train = train_data.drop(columns=['henkilotunnus', 'disease', 'time_to_dg'])\n",
    "        y_train = train_data['time_to_dg']\n",
    "\n",
    "        x_val = validation_data.drop(columns=['henkilotunnus', 'disease', 'time_to_dg'])\n",
    "        y_val = validation_data['time_to_dg']\n",
    "\n",
    "        # Create DMatrix for XGBoost\n",
    "        dtrain = xgb.DMatrix(x_train, label=y_train)\n",
    "        dval = xgb.DMatrix(x_val, label=y_val)\n",
    "\n",
    "        # Use validation set to watch performance\n",
    "        watchlist = [(dtrain,'train'), (dval,'eval')]\n",
    "\n",
    "        # Store validation results\n",
    "        evals_results = {}\n",
    "\n",
    "        # Train the model\n",
    "        xgb_model = xgb.train(params, dtrain, num_boost_round=nrounds, early_stopping_rounds=early_stop, evals=watchlist, evals_result=evals_results, verbose_eval=False)\n",
    "\n",
    "        # Predict risk scores\n",
    "        risk_scores_train = xgb_model.predict(dtrain)\n",
    "        risk_scores_val = xgb_model.predict(dval)\n",
    "\n",
    "        # Add risk scores to the dataframe\n",
    "        train_data['risk_score'] = risk_scores_train\n",
    "        validation_data['risk_score'] = risk_scores_val\n",
    "\n",
    "        # Calculate C-index for validation set\n",
    "        # Negative times to positive for getting c-index\n",
    "        validation_data['time_to_dg'] = validation_data['time_to_dg'].apply(lambda x: -x if x < 0 else x)\n",
    "        \n",
    "        try:\n",
    "            c_index = concordance_index_censored(event_indicator=validation_data['disease'].replace({0 : False, 1 : True}), event_time=validation_data['time_to_dg'], estimate=validation_data['risk_score'])[0]\n",
    "    \n",
    "            # ROC-AUC\n",
    "            fpr, tpr, thresholds = roc_curve(validation_data['disease'], validation_data['risk_score'])\n",
    "            roc_auc = auc(fpr, tpr)\n",
    "\n",
    "            # Calculate precision and recall\n",
    "            precision, recall, pr_thresholds = precision_recall_curve(validation_data['disease'], validation_data['risk_score'])\n",
    "            AUCPR = average_precision_score(validation_data['disease'], validation_data['risk_score'])\n",
    "\n",
    "            c_indices.append(c_index)\n",
    "            AUCs.append(roc_auc)\n",
    "            AUCPRs.append(AUCPR)\n",
    "        \n",
    "        except:\n",
    "            print('Something went wrong with model training with current parameters.')\n",
    " \n",
    "    result_df.loc[len(result_df.index)] = [params, np.mean(c_indices), np.std(c_indices), np.mean(AUCs), np.std(AUCs), np.mean(AUCPRs), np.std(AUCPRs)]\n",
    "    \n",
    "    # Save results at each iteration\n",
    "    result_df.to_csv(my_path + '/optimization/hyperparams/' + disease + '_hyperparameter_results_cv.csv')"
   ]
  },
  {
   "cell_type": "code",
   "execution_count": null,
   "id": "add8f6d7-a7bc-4f4f-a043-a1e4a37b3740",
   "metadata": {},
   "outputs": [],
   "source": []
  }
 ],
 "metadata": {
  "kernelspec": {
   "display_name": "Python 3 (ipykernel)",
   "language": "python",
   "name": "python3"
  },
  "language_info": {
   "codemirror_mode": {
    "name": "ipython",
    "version": 3
   },
   "file_extension": ".py",
   "mimetype": "text/x-python",
   "name": "python",
   "nbconvert_exporter": "python",
   "pygments_lexer": "ipython3",
   "version": "3.8.18"
  }
 },
 "nbformat": 4,
 "nbformat_minor": 5
}

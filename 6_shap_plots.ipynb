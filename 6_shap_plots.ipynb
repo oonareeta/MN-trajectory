{
 "cells": [
  {
   "cell_type": "code",
   "execution_count": null,
   "id": "2e61a8e6",
   "metadata": {},
   "outputs": [],
   "source": [
    "import numpy as np\n",
    "import pandas as pd\n",
    "import matplotlib.pyplot as plt\n",
    "import seaborn as sns\n",
    "import math\n",
    "import warnings"
   ]
  },
  {
   "cell_type": "code",
   "execution_count": null,
   "id": "821b6ff4",
   "metadata": {},
   "outputs": [],
   "source": [
    "warnings.filterwarnings(\"ignore\")"
   ]
  },
  {
   "cell_type": "code",
   "execution_count": null,
   "id": "549418fd",
   "metadata": {},
   "outputs": [],
   "source": [
    "my_path ='~/mounts/research/husdatalake/disease/scripts/Preleukemia/oona_git'"
   ]
  },
  {
   "cell_type": "code",
   "execution_count": null,
   "id": "6ec8c1dd-1b9f-49f1-a534-ab80f1c699fc",
   "metadata": {},
   "outputs": [],
   "source": [
    "disease = 'MDS'"
   ]
  },
  {
   "cell_type": "markdown",
   "id": "5ba46549",
   "metadata": {},
   "source": [
    "### Run SHAP/SHAP_final_model.R & Load SHAP values calculated with R"
   ]
  },
  {
   "cell_type": "code",
   "execution_count": null,
   "id": "79c385a3",
   "metadata": {},
   "outputs": [],
   "source": [
    "shap = pd.read_csv(my_path + '/results/final_model/SHAP/' + disease + '_final_model_shap_scores.csv')\n",
    "values = pd.read_csv(my_path + '/results/final_model/SHAP/' + disease + '_final_model_feature_values.csv')\n",
    "xtrain = pd.read_csv(my_path + '/results/final_model/SHAP/' + disease + '_x_train.csv')\n",
    "\n",
    "# Add % column\n",
    "shap['perc'] = 100 * shap['mean_shap_score'] / shap['mean_shap_score'].sum()\n"
   ]
  },
  {
   "cell_type": "code",
   "execution_count": null,
   "id": "95760efd",
   "metadata": {},
   "outputs": [],
   "source": [
    "shap['risk'] = np.nan\n",
    "\n",
    "for i in range(len(shap)):\n",
    "     \n",
    "    column = shap['names'].loc[i]\n",
    "    pos_indices = values[column][values[column] > 0].index\n",
    "    pos_mean = xtrain[column].loc[pos_indices].mean()\n",
    "    \n",
    "    neg_indices = values[column][values[column] < 0].index\n",
    "    neg_mean = xtrain[column].loc[neg_indices].mean()\n",
    "    \n",
    "    if pos_mean > abs(neg_mean):\n",
    "        shap['risk'].loc[i] = '+'\n",
    "    else:\n",
    "        shap['risk'].loc[i] = '-'\n",
    "\n",
    "shap['names_clean'] = shap['names']"
   ]
  },
  {
   "cell_type": "markdown",
   "id": "f70540f2",
   "metadata": {},
   "source": [
    "### Manually rename columns"
   ]
  },
  {
   "cell_type": "code",
   "execution_count": null,
   "id": "802fd59e",
   "metadata": {},
   "outputs": [],
   "source": [
    "shap['names_clean'].loc[:9] = ['Age', 'B-NEUT -1y', 'B-EOS', 'E-RDW', 'E-MCV', 'E-RDW -5y', 'B-NEUT', 'B-HB Δ5y', 'B-PLT', 'B-PLT Δ5y']"
   ]
  },
  {
   "cell_type": "code",
   "execution_count": null,
   "id": "af64332d",
   "metadata": {},
   "outputs": [],
   "source": [
    "# How many features to show\n",
    "n=10\n",
    "\n",
    "categories = list(shap['names_clean'].values[:n])   \n",
    "values =  list(shap['perc'].values[:n])"
   ]
  },
  {
   "cell_type": "code",
   "execution_count": null,
   "id": "bf57c947",
   "metadata": {},
   "outputs": [],
   "source": [
    "colors = shap.loc[:n]['risk'].replace({'-' : 'cornflowerblue', '+': 'indianred'}).to_list()"
   ]
  },
  {
   "cell_type": "code",
   "execution_count": null,
   "id": "239fdefa",
   "metadata": {},
   "outputs": [],
   "source": [
    "# Create the figure\n",
    "fig = plt.figure(figsize=(4,6))\n",
    "\n",
    "bars = plt.barh(categories, values, color=colors)\n",
    "# Add values on top of the bars for the first subplot\n",
    "for bar in bars:\n",
    "    width = bar.get_width()\n",
    "    plt.text(\n",
    "        width, \n",
    "        bar.get_y() + bar.get_height() / 2, \n",
    "        str(round(width,1)) + ' %', \n",
    "        ha='left', \n",
    "        va='center', \n",
    "        color='black', \n",
    "        fontsize=10)\n",
    "plt.box(False)\n",
    "plt.xlim([0,85])\n",
    "plt.xticks([])\n",
    "plt.tick_params(axis='y', colors='black')\n",
    "plt.gca().invert_yaxis()\n",
    "plt.title('MDS', loc='left', fontsize=12)\n",
    "plt.tight_layout()\n",
    "fig.savefig('results/final_model/plots/' + disease + '_shap_scores.png')"
   ]
  },
  {
   "cell_type": "code",
   "execution_count": null,
   "id": "469bcdda-fdf8-411c-832d-651d3c637728",
   "metadata": {},
   "outputs": [],
   "source": []
  },
  {
   "cell_type": "code",
   "execution_count": null,
   "id": "ffb7893b-69c1-4aa1-b11d-06bed6a49ac5",
   "metadata": {},
   "outputs": [],
   "source": []
  }
 ],
 "metadata": {
  "kernelspec": {
   "display_name": "Python 3 (ipykernel)",
   "language": "python",
   "name": "python3"
  },
  "language_info": {
   "codemirror_mode": {
    "name": "ipython",
    "version": 3
   },
   "file_extension": ".py",
   "mimetype": "text/x-python",
   "name": "python",
   "nbconvert_exporter": "python",
   "pygments_lexer": "ipython3",
   "version": "3.8.18"
  }
 },
 "nbformat": 4,
 "nbformat_minor": 5
}

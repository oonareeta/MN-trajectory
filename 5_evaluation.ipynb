{
 "cells": [
  {
   "cell_type": "code",
   "execution_count": null,
   "id": "258c2d24",
   "metadata": {},
   "outputs": [],
   "source": [
    "import numpy as np\n",
    "import pandas as pd\n",
    "import matplotlib.pyplot as plt\n",
    "import seaborn as sns\n",
    "import math\n",
    "import warnings\n",
    "import sklearn\n",
    "import xgboost as xgb\n",
    "from sklearn.metrics import roc_curve, auc, f1_score, accuracy_score\n",
    "from sklearn.metrics import precision_recall_curve, average_precision_score\n",
    "from sklearn.metrics import roc_curve, roc_auc_score\n",
    "from sksurv.metrics import cumulative_dynamic_auc, concordance_index_censored\n",
    "from matplotlib.colors import LinearSegmentedColormap\n",
    "from sksurv.util import Surv\n",
    "\n",
    "warnings.filterwarnings(\"ignore\")"
   ]
  },
  {
   "cell_type": "code",
   "execution_count": null,
   "id": "8c19b1dc",
   "metadata": {},
   "outputs": [],
   "source": [
    "my_path ='~/mounts/research/husdatalake/disease/scripts/Preleukemia/oona_git'"
   ]
  },
  {
   "cell_type": "code",
   "execution_count": null,
   "id": "d9d80870",
   "metadata": {},
   "outputs": [],
   "source": [
    "healthy_color = '#777777'\n",
    "AML_color = '#BF9F45'    \n",
    "MDS_color = '#348ABD'\n",
    "MF_color = '#2b6e2a'  \n",
    "any_MN_color = '#2d0e3d'"
   ]
  },
  {
   "cell_type": "code",
   "execution_count": null,
   "id": "965043b7",
   "metadata": {},
   "outputs": [],
   "source": [
    "AML_cmap = LinearSegmentedColormap.from_list('MF_cmap', ['#FFFFFF', AML_color])\n",
    "MDS_cmap = LinearSegmentedColormap.from_list('MF_cmap', ['#FFFFFF', MDS_color])\n",
    "MF_cmap = LinearSegmentedColormap.from_list('MF_cmap', ['#FFFFFF', MF_color])\n",
    "any_MN_cmap = LinearSegmentedColormap.from_list('any_MN_cmap', ['#FFFFFF', any_MN_color])"
   ]
  },
  {
   "cell_type": "code",
   "execution_count": null,
   "id": "981c9bc5-2709-4146-946b-3ee72f139610",
   "metadata": {},
   "outputs": [],
   "source": [
    "disease = 'MDS'"
   ]
  },
  {
   "cell_type": "code",
   "execution_count": null,
   "id": "6af61638",
   "metadata": {},
   "outputs": [],
   "source": [
    "test_data = pd.read_csv(my_path + '/results/final_model/' + disease + '_test_data_with_final_model_predictions.csv')"
   ]
  },
  {
   "cell_type": "markdown",
   "id": "8b29cd30-b4ee-4352-977c-39df5707df96",
   "metadata": {},
   "source": [
    "### Plot PR and ROC curves"
   ]
  },
  {
   "cell_type": "code",
   "execution_count": null,
   "id": "d9f9ab83",
   "metadata": {},
   "outputs": [],
   "source": [
    "fs = 12\n",
    "\n",
    "fpr, tpr, thresholds = roc_curve(test_data['disease'], test_data['risk_score'])\n",
    "roc_auc = auc(fpr, tpr)\n",
    "precision, recall, thresholds = precision_recall_curve(test_data['disease'], test_data['risk_score'])\n",
    "average_precision = average_precision_score(test_data['disease'], test_data['risk_score'])\n",
    "\n",
    "fig = plt.figure(figsize=(10,5))\n",
    "\n",
    "plt.subplot(1, 2, 1)\n",
    "plt.plot(fpr, tpr, label='MDS (AUROC = %0.2f)' % roc_auc, color=MDS_color,lw=3)\n",
    "plt.plot([0, 1], [0, 1], color='navy', lw=3, linestyle='--',alpha=0.2)\n",
    "plt.xlim([0.0, 1.0])\n",
    "plt.ylim([0.0, 1.05])\n",
    "plt.ylabel('Sensitivity', fontsize=fs)\n",
    "plt.xlabel('1 - Specificity',fontsize=fs)\n",
    "plt.legend(loc=\"lower right\")\n",
    "plt.xticks(fontsize=fs, rotation=0)\n",
    "plt.yticks(fontsize=fs, rotation=0)\n",
    "sns.despine(fig=fig, ax=None, top=True, right=True, left=False, bottom=False, offset=None, trim=False)\n",
    "\n",
    "plt.subplot(1, 2, 2)\n",
    "plt.step(recall, precision, where='post', label=f'MDS (AUPRC = {average_precision:.2f})',color=MDS_color, lw=3)\n",
    "plt.xlabel('Recall', fontsize=fs)\n",
    "plt.ylabel('Precision', fontsize=fs)\n",
    "plt.legend(loc='upper right')\n",
    "plt.xticks(fontsize=fs, rotation=0)\n",
    "plt.yticks(fontsize=fs, rotation=0)\n",
    "sns.despine(fig=fig, ax=None, top=True, right=True, left=False, bottom=False, offset=None, trim=False)\n",
    "plt.show()\n",
    "\n",
    "\n",
    "fig.savefig('results/final_model/plots/' + disease + '_test_roc_and_pr.png')"
   ]
  },
  {
   "cell_type": "markdown",
   "id": "b926f743-5555-47be-8075-5b43bc09c0c4",
   "metadata": {},
   "source": [
    "### Time dependent ROC curves"
   ]
  },
  {
   "cell_type": "code",
   "execution_count": null,
   "id": "b2a851a7-9920-483c-98b6-b5ec3f3d2e64",
   "metadata": {},
   "outputs": [],
   "source": [
    "# Add years to dg column\n",
    "test_data['years_to_dg'] = (test_data['time_to_dg'] / 365).apply(lambda x: int(x) + 1 if x % 1 > 0 else int(x))"
   ]
  },
  {
   "cell_type": "code",
   "execution_count": null,
   "id": "a9380d7b-e672-46a3-87bf-ef79acf8ca8a",
   "metadata": {},
   "outputs": [],
   "source": [
    "fig = plt.figure(figsize=(6,6))\n",
    "\n",
    "# 1y\n",
    "df1 = test_data[\n",
    "    (test_data['disease'] == 0) | \n",
    "    ((test_data['disease'] == 1) & (test_data['years_to_dg'].isin([1])))]\n",
    "y_true = df1['disease']\n",
    "y_score = df1['risk_score']\n",
    "fpr1, tpr1, thresholds = roc_curve(y_true, y_score)\n",
    "roc_auc1 = roc_auc_score(y_true, y_score)\n",
    "\n",
    "# 2-3y\n",
    "df23 = test_data[\n",
    "    (test_data['disease'] == 0) | \n",
    "    ((test_data['disease'] == 1) & (test_data['years_to_dg'].isin([2, 3])))]\n",
    "y_true = df23['disease']\n",
    "y_score = df23['risk_score']\n",
    "fpr23, tpr23, thresholds = roc_curve(y_true, y_score)\n",
    "roc_auc23 = roc_auc_score(y_true, y_score)\n",
    "\n",
    "# 4-5y\n",
    "df45 = test_data[\n",
    "    (test_data['disease'] == 0) | \n",
    "    ((test_data['disease'] == 1) & (test_data['years_to_dg'].isin([4, 5])))]\n",
    "y_true = df45['disease']\n",
    "y_score = df45['risk_score']\n",
    "fpr45, tpr45, thresholds = roc_curve(y_true, y_score)\n",
    "roc_auc45 = roc_auc_score(y_true, y_score)\n",
    "\n",
    "plt.plot(fpr1, tpr1, lw=3, label=f'-1y to -3mo, AUC={round(roc_auc1,2)}')\n",
    "plt.plot(fpr23, tpr23, lw=3, label=f'-2y to -3y, AUC={round(roc_auc23,2)}')\n",
    "plt.plot(fpr45, tpr45, lw=3, label=f'-4y to -5y, AUC={round(roc_auc45,2)}')\n",
    "plt.plot([0, 1], [0, 1], color='navy', lw=2, linestyle='--', alpha=0.3)\n",
    "plt.xlim([0.0, 1.0])\n",
    "plt.ylim([0.0, 1.05])\n",
    "plt.xlabel('1 - Specificity', fontsize=fs)\n",
    "plt.ylabel('Sensitivity', fontsize=fs)\n",
    "plt.title(f'{disease}', loc='left', fontsize=fs, fontweight='bold')\n",
    "plt.legend(loc=\"lower right\", fontsize=12)\n",
    "plt.xticks(fontsize=fs, rotation=0)\n",
    "plt.yticks(fontsize=fs, rotation=0)\n",
    "sns.despine(fig=fig, ax=None, top=True, right=True, left=False, bottom=False, offset=None, trim=False)\n",
    "plt.show()\n",
    "\n",
    "fig.savefig('results/final_model/plots/' + disease + '_time_dep_ROC.png')"
   ]
  },
  {
   "cell_type": "markdown",
   "id": "4e6b297b-fe5b-4ec5-bb22-3c134b5acffb",
   "metadata": {},
   "source": [
    "### Confusion matrix"
   ]
  },
  {
   "cell_type": "code",
   "execution_count": null,
   "id": "faeb256f",
   "metadata": {},
   "outputs": [],
   "source": [
    "\n",
    "cfm = sklearn.metrics.confusion_matrix(test_data['disease'], test_data['predicted_disease'])\n",
    "\n",
    "color_cfm = np.array([[cfm[0][0] / (cfm[0][0] + cfm[0][1]), cfm[0][1] / (cfm[0][0] + cfm[0][1])],\n",
    "                          [cfm[1][0] / (cfm[1][0] + cfm[1][1]), cfm[1][1] / (cfm[1][0] + cfm[1][1])]])\n",
    "\n",
    "fig = plt.figure(figsize=(6,6))\n",
    "group_counts = ['{0:0.0f}'.format(value) for value in cfm.flatten()]\n",
    "flat = cfm.flatten()\n",
    "rows = cfm.sum(1)\n",
    "values = [flat[0] / rows[0], flat[1] / rows[0], flat[2] / rows[1], flat[3] / rows[1]]\n",
    "group_percentages = ['{0:.1%}'.format(value) for value in values]\n",
    "labels = [f'{v1}\\n\\n{v2}' for v1, v2 in zip(group_counts,group_percentages)]\n",
    "labels = np.asarray(labels).reshape(2,2)\n",
    "sns.heatmap(color_cfm, annot=labels, annot_kws={'size': 15}, fmt='', cmap=MDS_cmap, linewidths=3, cbar=False)#.set( xlabel='Predicted label')\n",
    "plt.title(disease, loc='left', fontsize=fs)\n",
    "plt.xticks(fontsize=fs, rotation=0)\n",
    "plt.yticks(fontsize=fs, rotation=0)\n",
    "plt.ylabel('True label', fontsize=fs)\n",
    "plt.xlabel('Predicted label', fontsize=fs)\n",
    "plt.show()\n",
    "fig.savefig('results/final_model/plots/' + disease + '_test_confusion_matrix.png')"
   ]
  },
  {
   "cell_type": "markdown",
   "id": "907753e3-4673-401c-b4d3-73daf9e0dcf8",
   "metadata": {},
   "source": [
    "### Table with test data metrics"
   ]
  },
  {
   "cell_type": "code",
   "execution_count": null,
   "id": "0e7c4687",
   "metadata": {},
   "outputs": [],
   "source": [
    "\n",
    "c_index = concordance_index_censored(event_indicator=test_data['disease'].replace({0 : False, 1 : True}), event_time=test_data['time_to_dg'], estimate=test_data['risk_score'])[0]\n",
    "f1 = f1_score(test_data['disease'], test_data['predicted_disease'])\n",
    "acc = accuracy_score(test_data['disease'], test_data['predicted_disease'])\n",
    "cfm = sklearn.metrics.confusion_matrix(test_data['disease'], test_data['predicted_disease'])\n",
    "tn = cfm[0][0]\n",
    "fn = cfm[1][0]\n",
    "tp = cfm[1][1]\n",
    "fp = cfm[0][1]\n",
    "sensitivity = tp / (tp + fn)\n",
    "specificity = tn / (tn + fp)\n",
    "\n",
    "metrics = [c_index, roc_auc, average_precision, acc, sensitivity, specificity, f1]\n",
    "\n",
    "\n",
    "test_metrics = pd.DataFrame(index=['C-index', 'ROC-AUC', 'PR-AUC', 'Accuracy', 'Sensitivity', 'Specificity', 'F1-score'])\n",
    "test_metrics[disease] = metrics\n",
    "\n",
    "test_metrics = test_metrics.round(2)\n",
    "\n",
    "test_metrics"
   ]
  },
  {
   "cell_type": "code",
   "execution_count": null,
   "id": "ea47b736",
   "metadata": {},
   "outputs": [],
   "source": []
  }
 ],
 "metadata": {
  "kernelspec": {
   "display_name": "Python 3 (ipykernel)",
   "language": "python",
   "name": "python3"
  },
  "language_info": {
   "codemirror_mode": {
    "name": "ipython",
    "version": 3
   },
   "file_extension": ".py",
   "mimetype": "text/x-python",
   "name": "python",
   "nbconvert_exporter": "python",
   "pygments_lexer": "ipython3",
   "version": "3.8.18"
  }
 },
 "nbformat": 4,
 "nbformat_minor": 5
}
